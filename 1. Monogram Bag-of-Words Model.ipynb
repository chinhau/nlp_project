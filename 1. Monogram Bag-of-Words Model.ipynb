{
 "cells": [
  {
   "cell_type": "code",
   "execution_count": 1,
   "metadata": {
    "collapsed": true
   },
   "outputs": [
    {
     "name": "stdout",
     "output_type": "stream",
     "text": [
      "[nltk_data] Downloading package punkt to /home/ec2-user/nltk_data...\n",
      "[nltk_data]   Unzipping tokenizers/punkt.zip.\n",
      "[nltk_data] Downloading package wordnet to /home/ec2-user/nltk_data...\n",
      "[nltk_data]   Unzipping corpora/wordnet.zip.\n",
      "[nltk_data] Downloading package stopwords to\n",
      "[nltk_data]     /home/ec2-user/nltk_data...\n",
      "[nltk_data]   Unzipping corpora/stopwords.zip.\n",
      "[nltk_data] Downloading package averaged_perceptron_tagger to\n",
      "[nltk_data]     /home/ec2-user/nltk_data...\n",
      "[nltk_data]   Unzipping taggers/averaged_perceptron_tagger.zip.\n"
     ]
    },
    {
     "data": {
      "text/plain": [
       "True"
      ]
     },
     "execution_count": 1,
     "metadata": {},
     "output_type": "execute_result"
    }
   ],
   "source": [
    "import nltk\n",
    "nltk.download('punkt')\n",
    "nltk.download('wordnet')\n",
    "nltk.download('stopwords')\n",
    "nltk.download('averaged_perceptron_tagger')"
   ]
  },
  {
   "cell_type": "markdown",
   "metadata": {},
   "source": [
    "### Dataset Citation\n",
    "\n",
    "<b> Link: https://ai.stanford.edu/~amaas/data/sentiment/ </b>\n",
    "\n",
    "@InProceedings{maas-EtAl:2011:ACL-HLT2011,\n",
    "  author    = {Maas, Andrew L.  and  Daly, Raymond E.  and  Pham, Peter T.  and  Huang, Dan  and  Ng, Andrew Y.  and  Potts, Christopher},\n",
    "  title     = {Learning Word Vectors for Sentiment Analysis},\n",
    "  booktitle = {Proceedings of the 49th Annual Meeting of the Association for Computational Linguistics: Human Language Technologies},\n",
    "  month     = {June},\n",
    "  year      = {2011},\n",
    "  address   = {Portland, Oregon, USA},\n",
    "  publisher = {Association for Computational Linguistics},\n",
    "  pages     = {142--150},\n",
    "  url       = {http://www.aclweb.org/anthology/P11-1015}\n",
    "}\n",
    "<br> <br>"
   ]
  },
  {
   "cell_type": "markdown",
   "metadata": {},
   "source": [
    "### Import Libraries"
   ]
  },
  {
   "cell_type": "code",
   "execution_count": 2,
   "metadata": {},
   "outputs": [],
   "source": [
    "# import libraries\n",
    "\n",
    "import re\n",
    "import glob\n",
    "import time\n",
    "import pickle\n",
    "import string\n",
    "import warnings\n",
    "import itertools\n",
    "import collections\n",
    "import numpy as np\n",
    "import pandas as pd\n",
    "import seaborn as sns\n",
    "import multiprocessing\n",
    "from sklearn import utils\n",
    "from nltk.corpus import wordnet\n",
    "import matplotlib.pyplot as plt\n",
    "from multiprocessing import Pool\n",
    "from sklearn.utils import shuffle\n",
    "import sklearn.metrics as metrics\n",
    "from nltk.corpus import stopwords\n",
    "from nltk.stem import PorterStemmer\n",
    "from nltk.stem import WordNetLemmatizer \n",
    "from sklearn.feature_extraction.text import CountVectorizer\n",
    "from sklearn.model_selection import train_test_split, StratifiedShuffleSplit, StratifiedKFold\n",
    "from sklearn.metrics import accuracy_score, precision_score, recall_score, f1_score, roc_auc_score, confusion_matrix\n",
    "\n",
    "warnings.filterwarnings('ignore')"
   ]
  },
  {
   "cell_type": "markdown",
   "metadata": {},
   "source": [
    "### Import Training Datasets"
   ]
  },
  {
   "cell_type": "code",
   "execution_count": 3,
   "metadata": {},
   "outputs": [],
   "source": [
    "# define function to transform txt files to dataframes\n",
    "\n",
    "def process(file_list):\n",
    "    \n",
    "    review_list = []\n",
    "    \n",
    "    for file in file_list:\n",
    "        temp = open(file, 'r')\n",
    "        review = temp.read()\n",
    "        temp.close()\n",
    "        review_list.append(review)\n",
    "    \n",
    "    return review_list"
   ]
  },
  {
   "cell_type": "code",
   "execution_count": 4,
   "metadata": {},
   "outputs": [
    {
     "name": "stdout",
     "output_type": "stream",
     "text": [
      "total positive (training) reviews:  12500\n",
      "total negative (training) reviews:  12500\n"
     ]
    }
   ],
   "source": [
    "# import positive dataset and negative dataset\n",
    "# Courtesy: https://stackoverflow.com/questions/3207219/how-do-i-list-all-files-of-a-directory\n",
    "\n",
    "pfile_list = glob.glob(\"train/pos/*.txt\")\n",
    "nfile_list = glob.glob(\"train/neg/*.txt\")\n",
    "\n",
    "print(\"total positive (training) reviews: \", len(pfile_list))\n",
    "print(\"total negative (training) reviews: \", len(nfile_list))\n",
    "\n",
    "\n",
    "pdf = pd.DataFrame(process(pfile_list), columns=['reviews'])\n",
    "pdf['label'] = 1\n",
    "\n",
    "ndf = pd.DataFrame(process(nfile_list), columns=['reviews'])\n",
    "ndf['label'] = 0"
   ]
  },
  {
   "cell_type": "code",
   "execution_count": 5,
   "metadata": {},
   "outputs": [
    {
     "name": "stdout",
     "output_type": "stream",
     "text": [
      "1    12500\n",
      "0    12500\n",
      "Name: label, dtype: int64\n",
      "\n",
      "\n",
      "<class 'pandas.core.frame.DataFrame'>\n",
      "Int64Index: 25000 entries, 0 to 12499\n",
      "Data columns (total 2 columns):\n",
      "reviews    25000 non-null object\n",
      "label      25000 non-null int64\n",
      "dtypes: int64(1), object(1)\n",
      "memory usage: 585.9+ KB\n",
      "None\n"
     ]
    }
   ],
   "source": [
    "# Exploratory Data Analysis\n",
    "\n",
    "frame = [pdf, ndf]\n",
    "df1 = pd.concat(frame)\n",
    "\n",
    "print(df1['label'].value_counts())\n",
    "print('\\n')\n",
    "print(df1.info())"
   ]
  },
  {
   "cell_type": "code",
   "execution_count": 6,
   "metadata": {},
   "outputs": [
    {
     "name": "stdout",
     "output_type": "stream",
     "text": [
      "total positive (training) reviews:  12500\n",
      "total negative (training) reviews:  12500\n"
     ]
    }
   ],
   "source": [
    "# import positive dataset and negative dataset\n",
    "# Courtesy: https://stackoverflow.com/questions/3207219/how-do-i-list-all-files-of-a-directory\n",
    "\n",
    "ptest_list = glob.glob(\"test/pos/*.txt\")\n",
    "ntest_list = glob.glob(\"test/neg/*.txt\")\n",
    "\n",
    "print(\"total positive (training) reviews: \", len(ptest_list))\n",
    "print(\"total negative (training) reviews: \", len(ntest_list))\n",
    "\n",
    "p_test = pd.DataFrame(process(ptest_list), columns=['reviews'])\n",
    "p_test['label'] = 1\n",
    "\n",
    "n_test = pd.DataFrame(process(ntest_list), columns=['reviews'])\n",
    "n_test['label'] = 0"
   ]
  },
  {
   "cell_type": "code",
   "execution_count": 7,
   "metadata": {},
   "outputs": [
    {
     "name": "stdout",
     "output_type": "stream",
     "text": [
      "1    12500\n",
      "0    12500\n",
      "Name: label, dtype: int64\n",
      "\n",
      "\n",
      "<class 'pandas.core.frame.DataFrame'>\n",
      "Int64Index: 25000 entries, 0 to 12499\n",
      "Data columns (total 2 columns):\n",
      "reviews    25000 non-null object\n",
      "label      25000 non-null int64\n",
      "dtypes: int64(1), object(1)\n",
      "memory usage: 585.9+ KB\n",
      "None\n"
     ]
    }
   ],
   "source": [
    "# Exploratory Data Analysis\n",
    "\n",
    "frame = [p_test, n_test]\n",
    "df_test = pd.concat(frame)\n",
    "print(df_test['label'].value_counts())\n",
    "print('\\n')\n",
    "print(df_test.info())"
   ]
  },
  {
   "cell_type": "markdown",
   "metadata": {},
   "source": [
    "### Text Pre-Processing"
   ]
  },
  {
   "cell_type": "code",
   "execution_count": 8,
   "metadata": {},
   "outputs": [],
   "source": [
    "# Pre-Requisite 1: Stopwords\n",
    "\n",
    "# lengthy way of removing single character from the text\n",
    "stopwords_dict = stopwords.words('english')\n",
    "char_stopwords = ['a','b', 'c', 'd', 'e', 'f', 'g', 'h', 'i', 'j', 'k', 'l', 'm', 'n', 'o', \n",
    "                 'p', 'q', 'r', 's', 't', 'u', 'v', 'w', 'x', 'y', 'z']\n",
    "stopwords_dict.extend(char_stopwords)\n",
    "\n",
    "# Pre-Requisite 2: Lemmetization\n",
    "# Courtesy of Gaurav Gupta : https://medium.com/@gaurav5430/using-nltk-for-lemmatizing-sentences-c1bfff963258\n",
    "\n",
    "lemmatizer = WordNetLemmatizer()\n",
    "\n",
    "def nltk_tag_to_wordnet_tag(nltk_tag):\n",
    "    if nltk_tag.startswith('J'):\n",
    "        return wordnet.ADJ\n",
    "    elif nltk_tag.startswith('V'):\n",
    "        return wordnet.VERB\n",
    "    elif nltk_tag.startswith('N'):\n",
    "        return wordnet.NOUN\n",
    "    elif nltk_tag.startswith('R'):\n",
    "        return wordnet.ADV\n",
    "    else:          \n",
    "        return None\n",
    "\n",
    "\n",
    "def lemmatize_sentence(sentence):\n",
    "    #tokenize the sentence and find the POS tag for each token\n",
    "    nltk_tagged = nltk.pos_tag(nltk.word_tokenize(sentence))  \n",
    "    #tuple of (token, wordnet_tag)\n",
    "    wordnet_tagged = map(lambda x: (x[0], nltk_tag_to_wordnet_tag(x[1])), nltk_tagged)\n",
    "    lemmatized_sentence = []\n",
    "    for word, tag in wordnet_tagged:\n",
    "        if tag is None:\n",
    "            #if there is no available tag, append the token as is\n",
    "            lemmatized_sentence.append(word)\n",
    "        else:        \n",
    "            #else use the tag to lemmatize the token\n",
    "            lemmatized_sentence.append(lemmatizer.lemmatize(word, tag))\n",
    "    return \" \".join(lemmatized_sentence)"
   ]
  },
  {
   "cell_type": "code",
   "execution_count": 9,
   "metadata": {},
   "outputs": [
    {
     "name": "stdout",
     "output_type": "stream",
     "text": [
      "CPU available:  72\n"
     ]
    }
   ],
   "source": [
    "# Text Pre-Processing Function (Stemming)\n",
    "# Decision 01 - Remove numerical value, simply text\n",
    "\n",
    "# MultiProcessing\n",
    "print(\"CPU available: \", multiprocessing.cpu_count())\n",
    "\n",
    "st = PorterStemmer()\n",
    "\n",
    "def preprocess_func(text):\n",
    "    text = text.lower()\n",
    "    text = re.compile(r'<[^>]+>').sub('', text) # remove html tags\n",
    "    text = re.compile(\"[^a-zA-Z ]\").sub('', text) # remove special character\n",
    "    text = re.sub(r'\\s+', ' ', text) # remove extra space           \n",
    "    text = re.compile(r'\\b(' + r'|'.join(stopwords_dict) + r')\\b\\s*').sub('', text) # remove stopwords\n",
    "    text = lemmatize_sentence(text)\n",
    "    return \" \".join([st.stem(i) for i in text.split()])\n",
    "\n",
    "\n",
    "# Function for MultiProcessing\n",
    "def func(temp):\n",
    "    temp = preprocess_func(temp)\n",
    "    return temp"
   ]
  },
  {
   "cell_type": "code",
   "execution_count": 10,
   "metadata": {},
   "outputs": [],
   "source": [
    "def cv_performance(clf, X, y, k=5):\n",
    "    \n",
    "    accuracy  = []\n",
    "    precision = []\n",
    "    recall    = []\n",
    "    f1_list   = []\n",
    "    rocauc    = []\n",
    "    \n",
    "    skf = StratifiedKFold(n_splits=k, random_state=None)\n",
    "    \n",
    "    for train_index, val_index in skf.split(X, y):\n",
    "        X_train, X_val = X.iloc[train_index], X.iloc[val_index]\n",
    "        y_train, y_val = y.iloc[train_index], y.iloc[val_index]\n",
    "        clf.fit(X_train, y_train)\n",
    "        y_pred = clf.predict(X_val)\n",
    "        \n",
    "        accuracy.append(accuracy_score(y_val, y_pred))\n",
    "        precision.append(precision_score(y_val, y_pred))\n",
    "        recall.append(recall_score(y_val, y_pred))\n",
    "        f1_list.append(f1_score(y_val, y_pred))\n",
    "        rocauc.append(roc_auc_score(y_val, y_pred))\n",
    "    \n",
    "    print(\"Validation Accuracy Score   : \", np.array(accuracy).mean())\n",
    "    print(\"Validation Precision Score  : \", np.array(precision).mean())\n",
    "    print(\"Validation Recall Score     : \", np.array(recall).mean())\n",
    "    print(\"Validation F1-Score         : \", np.array(f1_list).mean())\n",
    "    print(\"Validation ROC-AUC Score    : \", np.array(rocauc).mean())\n",
    "\n",
    "    return np.array(accuracy).mean()"
   ]
  },
  {
   "cell_type": "code",
   "execution_count": 11,
   "metadata": {},
   "outputs": [],
   "source": [
    "# Test Accuracy Function\n",
    "\n",
    "def test_accuracy(clf, X_train, y_train, X_test, y_test):\n",
    "\n",
    "    clf.fit(X_train, y_train)\n",
    "    y_pred = clf.predict(X_test)\n",
    "    \n",
    "    print(\"y Testing    : \")\n",
    "    print(collections.Counter(y_test))\n",
    "    \n",
    "    print(\"y Prediction : \")\n",
    "    print(collections.Counter(y_pred))\n",
    "    \n",
    "    print(\"Testing Accuracy Score   : \", accuracy_score(y_test, y_pred))   \n",
    "    print(\"Testing ROC-AUC Score    : \", roc_auc_score(y_test, y_pred))\n",
    "    print(\"Confusion Matrix \")\n",
    "    print(confusion_matrix(y_test, y_pred))\n",
    "    \n",
    "    return y_pred"
   ]
  },
  {
   "cell_type": "markdown",
   "metadata": {},
   "source": [
    "# Version 1.1 - Monogram, Occurrence of Words"
   ]
  },
  {
   "cell_type": "code",
   "execution_count": 12,
   "metadata": {},
   "outputs": [
    {
     "name": "stdout",
     "output_type": "stream",
     "text": [
      "25000\n",
      "Text Pre-Processing Done.\n",
      "(25000, 108593)\n"
     ]
    }
   ],
   "source": [
    "# Version 1.1 - Occurence of Words (Monogram)\n",
    "# Clean Data 1_11 Review List\n",
    "\n",
    "df1_11_review_list = df1['reviews'].values.tolist()\n",
    "print(len(df1_11_review_list))\n",
    "\n",
    "p = Pool(72)\n",
    "processed_list = p.map(func, df1_11_review_list)\n",
    "print('Text Pre-Processing Done.')\n",
    "\n",
    "# Version 1.1 - Occurence of Words (Monogram)\n",
    "\n",
    "mono_occurence     = CountVectorizer(binary=True)\n",
    "mono_occurence_bow = mono_occurence.fit_transform(np.array(processed_list)) # bow: bag-of-words\n",
    "df1_11     = pd.DataFrame(mono_occurence_bow.toarray(), columns=mono_occurence.get_feature_names())\n",
    "\n",
    "print(df1_11.shape)"
   ]
  },
  {
   "cell_type": "code",
   "execution_count": 13,
   "metadata": {},
   "outputs": [
    {
     "name": "stdout",
     "output_type": "stream",
     "text": [
      "(25000, 36931)\n"
     ]
    }
   ],
   "source": [
    "# Decision 01 - Drop Any Column with Sum Value Less Than 2\n",
    "\n",
    "df1_11 = df1_11[df1_11.columns[df1_11.sum() > 1]]\n",
    "print(df1_11.shape)"
   ]
  },
  {
   "cell_type": "code",
   "execution_count": 14,
   "metadata": {},
   "outputs": [
    {
     "name": "stdout",
     "output_type": "stream",
     "text": [
      "(25000,)\n",
      "(25000, 36931)\n"
     ]
    }
   ],
   "source": [
    "# Prepare Data for Training | Validation Purpose\n",
    "\n",
    "y1_11 = df1[\"label\"].copy()\n",
    "X1_11 = df1_11.copy()\n",
    "\n",
    "print(y1_11.shape)\n",
    "print(X1_11.shape)"
   ]
  },
  {
   "cell_type": "markdown",
   "metadata": {},
   "source": [
    "### Algorithms Overview: <br>\n",
    "\n",
    "    [1] Logistic Regression \n",
    "    [2] Gaussian Naïve Bayes Classifier \n",
    "    [3] Bernoulli Naïve Bayes Classifier \n",
    "    [4] Multinomial Naïve Bayes Classifier \n",
    "    [5] Decision Tree Classifier \n",
    "    [6] XGBoost Classifier "
   ]
  },
  {
   "cell_type": "markdown",
   "metadata": {},
   "source": [
    "### Logistic Regression"
   ]
  },
  {
   "cell_type": "code",
   "execution_count": 15,
   "metadata": {
    "scrolled": false
   },
   "outputs": [
    {
     "name": "stdout",
     "output_type": "stream",
     "text": [
      "parameter :  0.01\n",
      "Validation Accuracy Score   :  0.86132\n",
      "Validation Precision Score  :  0.8515584588266552\n",
      "Validation Recall Score     :  0.8752\n",
      "Validation F1-Score         :  0.8632045748709936\n",
      "Validation ROC-AUC Score    :  0.86132\n",
      "time :  0.5787570317586263  mins\n",
      "parameter :  0.05\n",
      "Validation Accuracy Score   :  0.86856\n",
      "Validation Precision Score  :  0.8606529111016381\n",
      "Validation Recall Score     :  0.87952\n",
      "Validation F1-Score         :  0.8699756467081363\n",
      "Validation ROC-AUC Score    :  0.86856\n",
      "time :  1.1598487377166748  mins\n",
      "parameter :  0.075\n",
      "Validation Accuracy Score   :  0.869\n",
      "Validation Precision Score  :  0.8620266650567258\n",
      "Validation Recall Score     :  0.87864\n",
      "Validation F1-Score         :  0.8702429540866281\n",
      "Validation ROC-AUC Score    :  0.869\n",
      "time :  1.7459426045417785  mins\n",
      "parameter :  0.1\n",
      "Validation Accuracy Score   :  0.86928\n",
      "Validation Precision Score  :  0.8628017857868672\n",
      "Validation Recall Score     :  0.8782399999999999\n",
      "Validation F1-Score         :  0.870434978351941\n",
      "Validation ROC-AUC Score    :  0.86928\n",
      "time :  2.3470030665397643  mins\n",
      "parameter :  0.125\n",
      "Validation Accuracy Score   :  0.8688\n",
      "Validation Precision Score  :  0.8619359438747083\n",
      "Validation Recall Score     :  0.87832\n",
      "Validation F1-Score         :  0.8700321812297345\n",
      "Validation ROC-AUC Score    :  0.8688\n",
      "time :  2.943366861343384  mins\n",
      "parameter :  0.15\n",
      "Validation Accuracy Score   :  0.86856\n",
      "Validation Precision Score  :  0.8620569861538108\n",
      "Validation Recall Score     :  0.8775999999999999\n",
      "Validation F1-Score         :  0.8697356650249891\n",
      "Validation ROC-AUC Score    :  0.86856\n",
      "time :  3.534789025783539  mins\n",
      "parameter :  0.2\n",
      "Validation Accuracy Score   :  0.86784\n",
      "Validation Precision Score  :  0.8622128018681072\n",
      "Validation Recall Score     :  0.87568\n",
      "Validation F1-Score         :  0.868863899121269\n",
      "Validation ROC-AUC Score    :  0.86784\n",
      "time :  4.123457618554434  mins\n",
      "parameter :  0.25\n",
      "Validation Accuracy Score   :  0.86692\n",
      "Validation Precision Score  :  0.8609267489824459\n",
      "Validation Recall Score     :  0.8752800000000001\n",
      "Validation F1-Score         :  0.8680202791988403\n",
      "Validation ROC-AUC Score    :  0.86692\n",
      "time :  4.712864343325297  mins\n"
     ]
    }
   ],
   "source": [
    "# Logistic Regression\n",
    "\n",
    "from sklearn.linear_model import LogisticRegression\n",
    "    \n",
    "lr_acc_list = [] \n",
    "start_time   = time.time()\n",
    "C_param_range = [0.01, 0.05, 0.075, 0.1,0.125, 0.15, 0.2, 0.25]\n",
    "\n",
    "for param in C_param_range:\n",
    "    print(\"parameter : \", param)\n",
    "    lr_clf = LogisticRegression(penalty='l2', C=param, random_state=42)\n",
    "    lr_acc = cv_performance(lr_clf, X1_11, y1_11, k=2)\n",
    "    lr_acc_list.append(lr_acc)\n",
    "    print(\"time : \", ((time.time() - start_time)/60), \" mins\")"
   ]
  },
  {
   "cell_type": "code",
   "execution_count": 16,
   "metadata": {},
   "outputs": [
    {
     "data": {
      "text/plain": [
       "Text(0, 0.5, 'Cross-Validated Accuracy')"
      ]
     },
     "execution_count": 16,
     "metadata": {},
     "output_type": "execute_result"
    },
    {
     "data": {
      "image/png": "[encoded data removed]",
      "text/plain": [
       "<Figure size 432x288 with 1 Axes>"
      ]
     },
     "metadata": {},
     "output_type": "display_data"
    }
   ],
   "source": [
    "# Plot Accuracy (Logistic Regression)\n",
    "\n",
    "plt.plot(C_param_range, lr_acc_list)\n",
    "plt.title('Logistic Regression Classifier')\n",
    "plt.xlabel('Value of C Parameters for Logistic Regression Classifier')\n",
    "plt.ylabel('Cross-Validated Accuracy')"
   ]
  },
  {
   "cell_type": "markdown",
   "metadata": {},
   "source": [
    "### Gaussian Naïve Bayes Classifier"
   ]
  },
  {
   "cell_type": "code",
   "execution_count": 17,
   "metadata": {},
   "outputs": [
    {
     "name": "stdout",
     "output_type": "stream",
     "text": [
      "parameter :  1e-10\n",
      "Validation Accuracy Score   :  0.65628\n",
      "Validation Precision Score  :  0.718934662391003\n",
      "Validation Recall Score     :  0.51328\n",
      "Validation F1-Score         :  0.5988892895932423\n",
      "Validation ROC-AUC Score    :  0.65628\n",
      "time :  3.1445304195086163  mins\n",
      "parameter :  1e-09\n",
      "Validation Accuracy Score   :  0.6606399999999999\n",
      "Validation Precision Score  :  0.7203962142437622\n",
      "Validation Recall Score     :  0.5252\n",
      "Validation F1-Score         :  0.607445644536071\n",
      "Validation ROC-AUC Score    :  0.66064\n",
      "time :  6.289880311489105  mins\n",
      "parameter :  1e-08\n",
      "Validation Accuracy Score   :  0.6657599999999999\n",
      "Validation Precision Score  :  0.7216280408330255\n",
      "Validation Recall Score     :  0.53984\n",
      "Validation F1-Score         :  0.6175791998514212\n",
      "Validation ROC-AUC Score    :  0.6657599999999999\n",
      "time :  9.435712122917176  mins\n",
      "parameter :  1e-07\n",
      "Validation Accuracy Score   :  0.67172\n",
      "Validation Precision Score  :  0.7216962611593217\n",
      "Validation Recall Score     :  0.5591200000000001\n",
      "Validation F1-Score         :  0.6300352812484845\n",
      "Validation ROC-AUC Score    :  0.67172\n",
      "time :  12.537219631671906  mins\n",
      "parameter :  1e-06\n",
      "Validation Accuracy Score   :  0.67564\n",
      "Validation Precision Score  :  0.7189509080935477\n",
      "Validation Recall Score     :  0.5768800000000001\n",
      "Validation F1-Score         :  0.6400739599033157\n",
      "Validation ROC-AUC Score    :  0.67564\n",
      "time :  15.709779294331868  mins\n",
      "parameter :  1e-05\n",
      "Validation Accuracy Score   :  0.6804399999999999\n",
      "Validation Precision Score  :  0.7163707844003669\n",
      "Validation Recall Score     :  0.59752\n",
      "Validation F1-Score         :  0.6515360260450291\n",
      "Validation ROC-AUC Score    :  0.6804399999999999\n",
      "time :  18.877611410617828  mins\n",
      "parameter :  0.0001\n",
      "Validation Accuracy Score   :  0.68792\n",
      "Validation Precision Score  :  0.7187959845382769\n",
      "Validation Recall Score     :  0.6175200000000001\n",
      "Validation F1-Score         :  0.6642728260891941\n",
      "Validation ROC-AUC Score    :  0.68792\n",
      "time :  22.04516099691391  mins\n"
     ]
    }
   ],
   "source": [
    "# Gaussian NB\n",
    "# Parameter Tuning\n",
    "\n",
    "from sklearn.naive_bayes import GaussianNB\n",
    "\n",
    "gnb_acc_list = [] \n",
    "start_time   = time.time()\n",
    "gparam_range  = [1e-10, 1e-9, 1e-8, 1e-7, 1e-6, 1e-5, 1e-4] \n",
    "\n",
    "for param in gparam_range:\n",
    "    print(\"parameter : \", param)\n",
    "    gnb_clf = GaussianNB(var_smoothing=param)\n",
    "    gnb_acc = cv_performance(gnb_clf, X1_11, y1_11)\n",
    "    gnb_acc_list.append(gnb_acc)\n",
    "    print(\"time : \", ((time.time() - start_time)/60), \" mins\")"
   ]
  },
  {
   "cell_type": "code",
   "execution_count": 18,
   "metadata": {},
   "outputs": [
    {
     "data": {
      "text/plain": [
       "Text(0, 0.5, 'Cross-Validated Accuracy')"
      ]
     },
     "execution_count": 18,
     "metadata": {},
     "output_type": "execute_result"
    },
    {
     "data": {
      "image/png": "[encoded data removed]",
      "text/plain": [
       "<Figure size 432x288 with 1 Axes>"
      ]
     },
     "metadata": {},
     "output_type": "display_data"
    }
   ],
   "source": [
    "# Plot Accuracy (Gaussian NB)\n",
    "\n",
    "plt.plot(gparam_range, gnb_acc_list)\n",
    "plt.title('Gaussian Naïve Bayes Classifier')\n",
    "plt.xlabel('Value of Parameters (var_smoothing) for Gaussian NB')\n",
    "plt.ylabel('Cross-Validated Accuracy')"
   ]
  },
  {
   "cell_type": "markdown",
   "metadata": {},
   "source": [
    "### Bernoulli Naïve Bayes Classifier"
   ]
  },
  {
   "cell_type": "code",
   "execution_count": 19,
   "metadata": {
    "scrolled": false
   },
   "outputs": [
    {
     "name": "stdout",
     "output_type": "stream",
     "text": [
      "parameter :  0.0\n",
      "Validation Accuracy Score   :  0.76632\n",
      "Validation Precision Score  :  0.7731308189766961\n",
      "Validation Recall Score     :  0.7539999999999999\n",
      "Validation F1-Score         :  0.7634031107167811\n",
      "Validation ROC-AUC Score    :  0.76632\n",
      "time :  3.9901611248652142  mins\n",
      "parameter :  1.0\n",
      "Validation Accuracy Score   :  0.8414400000000001\n",
      "Validation Precision Score  :  0.8680011368093599\n",
      "Validation Recall Score     :  0.8053600000000001\n",
      "Validation F1-Score         :  0.8354855567318837\n",
      "Validation ROC-AUC Score    :  0.8414400000000001\n",
      "time :  7.977990249792735  mins\n",
      "parameter :  2.0\n",
      "Validation Accuracy Score   :  0.8406799999999999\n",
      "Validation Precision Score  :  0.8694915662922582\n",
      "Validation Recall Score     :  0.80168\n",
      "Validation F1-Score         :  0.8341848027743557\n",
      "Validation ROC-AUC Score    :  0.8406799999999999\n",
      "time :  11.964006805419922  mins\n",
      "parameter :  3.0\n",
      "Validation Accuracy Score   :  0.83988\n",
      "Validation Precision Score  :  0.8700947450672827\n",
      "Validation Recall Score     :  0.79904\n",
      "Validation F1-Score         :  0.8330219611694126\n",
      "Validation ROC-AUC Score    :  0.83988\n",
      "time :  15.948179272810618  mins\n"
     ]
    }
   ],
   "source": [
    "# Bernoulli NB\n",
    "# Parameter Tuning\n",
    "\n",
    "from sklearn.naive_bayes import BernoulliNB\n",
    "\n",
    "bnb_acc_list = [] \n",
    "start_time   = time.time()\n",
    "param_range  = [0.0, 1.0, 2.0, 3.0] \n",
    "\n",
    "for param in param_range:\n",
    "    print(\"parameter : \", param)\n",
    "    bnb_clf = BernoulliNB(alpha=param)\n",
    "    bnb_acc = cv_performance(bnb_clf, X1_11, y1_11)\n",
    "    bnb_acc_list.append(bnb_acc)\n",
    "    print(\"time : \", ((time.time() - start_time)/60), \" mins\")"
   ]
  },
  {
   "cell_type": "code",
   "execution_count": 20,
   "metadata": {},
   "outputs": [
    {
     "data": {
      "text/plain": [
       "Text(0, 0.5, 'Cross-Validated Accuracy')"
      ]
     },
     "execution_count": 20,
     "metadata": {},
     "output_type": "execute_result"
    },
    {
     "data": {
      "image/png": "[encoded data removed]",
      "text/plain": [
       "<Figure size 432x288 with 1 Axes>"
      ]
     },
     "metadata": {},
     "output_type": "display_data"
    }
   ],
   "source": [
    "# Plot Accuracy (Bernoulli NB)\n",
    "\n",
    "plt.plot(param_range, bnb_acc_list)\n",
    "plt.title('Bernoulli Naïve Bayes Classifier')\n",
    "plt.xlabel('Value of Parameters (alpha) for Bernoulli NB')\n",
    "plt.ylabel('Cross-Validated Accuracy')"
   ]
  },
  {
   "cell_type": "markdown",
   "metadata": {},
   "source": [
    "### Multinomial Naïve Bayes Classifier"
   ]
  },
  {
   "cell_type": "code",
   "execution_count": 21,
   "metadata": {
    "scrolled": false
   },
   "outputs": [
    {
     "name": "stdout",
     "output_type": "stream",
     "text": [
      "parameter :  0.0\n",
      "Validation Accuracy Score   :  0.77172\n",
      "Validation Precision Score  :  0.7727385242789189\n",
      "Validation Recall Score     :  0.77\n",
      "Validation F1-Score         :  0.7713190562714377\n",
      "Validation ROC-AUC Score    :  0.77172\n",
      "time :  0.8216027975082397  mins\n",
      "parameter :  1.0\n",
      "Validation Accuracy Score   :  0.8521599999999999\n",
      "Validation Precision Score  :  0.8669388294793666\n",
      "Validation Recall Score     :  0.8320000000000001\n",
      "Validation F1-Score         :  0.8490901739640002\n",
      "Validation ROC-AUC Score    :  0.8521599999999999\n",
      "time :  1.6456535617510477  mins\n",
      "parameter :  2.0\n",
      "Validation Accuracy Score   :  0.85152\n",
      "Validation Precision Score  :  0.8671386005627373\n",
      "Validation Recall Score     :  0.8302399999999999\n",
      "Validation F1-Score         :  0.8482692430364152\n",
      "Validation ROC-AUC Score    :  0.85152\n",
      "time :  2.4647573630015054  mins\n",
      "parameter :  3.0\n",
      "Validation Accuracy Score   :  0.8515599999999999\n",
      "Validation Precision Score  :  0.8679439983851097\n",
      "Validation Recall Score     :  0.8292800000000001\n",
      "Validation F1-Score         :  0.8481427603765311\n",
      "Validation ROC-AUC Score    :  0.8515599999999999\n",
      "time :  3.283049742380778  mins\n"
     ]
    }
   ],
   "source": [
    "# Multinomial NB\n",
    "# Parameter Tuning\n",
    "\n",
    "from sklearn.naive_bayes import MultinomialNB\n",
    "\n",
    "mnb_acc_list = [] \n",
    "start_time   = time.time()\n",
    "param_range  = [0.0, 1.0, 2.0, 3.0] \n",
    "\n",
    "for param in param_range:\n",
    "    print(\"parameter : \", param)\n",
    "    mnb_clf = MultinomialNB(alpha=param)\n",
    "    mnb_acc = cv_performance(mnb_clf, X1_11, y1_11)\n",
    "    mnb_acc_list.append(mnb_acc)\n",
    "    print(\"time : \", ((time.time() - start_time)/60), \" mins\")"
   ]
  },
  {
   "cell_type": "code",
   "execution_count": 22,
   "metadata": {},
   "outputs": [
    {
     "data": {
      "text/plain": [
       "Text(0, 0.5, 'Cross-Validated Mean Accuracy')"
      ]
     },
     "execution_count": 22,
     "metadata": {},
     "output_type": "execute_result"
    },
    {
     "data": {
      "image/png": "[encoded data removed]",
      "text/plain": [
       "<Figure size 432x288 with 1 Axes>"
      ]
     },
     "metadata": {},
     "output_type": "display_data"
    }
   ],
   "source": [
    "# Plot Accuracy (Multinomial NB)\n",
    "\n",
    "plt.plot(param_range, mnb_acc_list)\n",
    "plt.title('Multinomial Naïve Bayes Classifier')\n",
    "plt.xlabel('Value of Parameters (alpha) for Multinomial NB')\n",
    "plt.ylabel('Cross-Validated Mean Accuracy')"
   ]
  },
  {
   "cell_type": "markdown",
   "metadata": {},
   "source": [
    "### Decision Tree Classifier"
   ]
  },
  {
   "cell_type": "code",
   "execution_count": 23,
   "metadata": {},
   "outputs": [
    {
     "name": "stdout",
     "output_type": "stream",
     "text": [
      "depth :  1\n",
      "Validation Accuracy Score   :  0.65076\n",
      "Validation Precision Score  :  0.6055793451545759\n",
      "Validation Recall Score     :  0.8648\n",
      "Validation F1-Score         :  0.7123288927826517\n",
      "Validation ROC-AUC Score    :  0.65076\n",
      "time :  0.7686067581176758  mins\n",
      "depth :  5\n",
      "Validation Accuracy Score   :  0.7094400000000001\n",
      "Validation Precision Score  :  0.6649060458038075\n",
      "Validation Recall Score     :  0.8444800000000001\n",
      "Validation F1-Score         :  0.7440091679719398\n",
      "Validation ROC-AUC Score    :  0.7094400000000001\n",
      "time :  2.252549576759338  mins\n",
      "depth :  10\n",
      "Validation Accuracy Score   :  0.73444\n",
      "Validation Precision Score  :  0.6992428930821609\n",
      "Validation Recall Score     :  0.82288\n",
      "Validation F1-Score         :  0.7559986949141246\n",
      "Validation ROC-AUC Score    :  0.73444\n",
      "time :  4.5333816369374595  mins\n",
      "depth :  15\n",
      "Validation Accuracy Score   :  0.73632\n",
      "Validation Precision Score  :  0.7021708065958794\n",
      "Validation Recall Score     :  0.82088\n",
      "Validation F1-Score         :  0.7568193702852881\n",
      "Validation ROC-AUC Score    :  0.73632\n",
      "time :  7.4653234879175825  mins\n",
      "depth :  20\n",
      "Validation Accuracy Score   :  0.73596\n",
      "Validation Precision Score  :  0.7090505090457345\n",
      "Validation Recall Score     :  0.80048\n",
      "Validation F1-Score         :  0.7519194753294559\n",
      "Validation ROC-AUC Score    :  0.73596\n",
      "time :  10.917815069357554  mins\n",
      "depth :  25\n",
      "Validation Accuracy Score   :  0.73136\n",
      "Validation Precision Score  :  0.7099350649556377\n",
      "Validation Recall Score     :  0.7824\n",
      "Validation F1-Score         :  0.7443850763959378\n",
      "Validation ROC-AUC Score    :  0.73136\n",
      "time :  14.806675187746684  mins\n",
      "depth :  30\n",
      "Validation Accuracy Score   :  0.72592\n",
      "Validation Precision Score  :  0.7111035329312054\n",
      "Validation Recall Score     :  0.76096\n",
      "Validation F1-Score         :  0.7351692150302367\n",
      "Validation ROC-AUC Score    :  0.72592\n",
      "time :  19.16469216744105  mins\n"
     ]
    }
   ],
   "source": [
    "# Decision Tree Classifier\n",
    "# Parameter Tuning \n",
    "\n",
    "from sklearn.tree import DecisionTreeClassifier\n",
    "\n",
    "dt_acc_list = [] \n",
    "start_time   = time.time()\n",
    "dt_range  = [1, 5, 10, 15, 20, 25, 30]\n",
    "\n",
    "for param in dt_range:\n",
    "    print(\"depth : \", param)\n",
    "    dt_clf = DecisionTreeClassifier(max_depth=param, random_state=42)\n",
    "    dt_acc = cv_performance(dt_clf, X1_11, y1_11)\n",
    "    dt_acc_list.append(dt_acc)\n",
    "    print(\"time : \", ((time.time() - start_time)/60), \" mins\")"
   ]
  },
  {
   "cell_type": "code",
   "execution_count": 25,
   "metadata": {},
   "outputs": [
    {
     "data": {
      "text/plain": [
       "Text(0, 0.5, 'Cross-Validated Mean Accuracy')"
      ]
     },
     "execution_count": 25,
     "metadata": {},
     "output_type": "execute_result"
    },
    {
     "data": {
      "image/png": "[encoded data removed]",
      "text/plain": [
       "<Figure size 432x288 with 1 Axes>"
      ]
     },
     "metadata": {},
     "output_type": "display_data"
    }
   ],
   "source": [
    "# Plot Accuracy (Decision Tree)\n",
    "\n",
    "plt.plot(dt_range, dt_acc_list)\n",
    "plt.title('Decision Tree Classifier')\n",
    "plt.xlabel('Values of Depth for Decision Tree Classifier')\n",
    "plt.ylabel('Cross-Validated Mean Accuracy')"
   ]
  },
  {
   "cell_type": "markdown",
   "metadata": {},
   "source": [
    "### XGBoost Classifier"
   ]
  },
  {
   "cell_type": "code",
   "execution_count": 26,
   "metadata": {
    "collapsed": true
   },
   "outputs": [
    {
     "name": "stdout",
     "output_type": "stream",
     "text": [
      "Collecting xgboost\n",
      "\u001b[?25l  Downloading https://files.pythonhosted.org/packages/c1/24/5fe7237b2eca13ee0cfb100bec8c23f4e69ce9df852a64b0493d49dae4e0/xgboost-0.90-py2.py3-none-manylinux1_x86_64.whl (142.8MB)\n",
      "\u001b[K    100% |████████████████████████████████| 142.8MB 392kB/s  eta 0:00:01    78% |█████████████████████████▏      | 112.4MB 101.8MB/s eta 0:00:01\n",
      "\u001b[?25hRequirement already satisfied: scipy in /home/ec2-user/anaconda3/envs/pytorch_p36/lib/python3.6/site-packages (from xgboost) (1.1.0)\n",
      "Requirement already satisfied: numpy in /home/ec2-user/anaconda3/envs/pytorch_p36/lib/python3.6/site-packages (from xgboost) (1.15.4)\n",
      "\u001b[31mfastai 1.0.52 requires nvidia-ml-py3, which is not installed.\u001b[0m\n",
      "\u001b[31mthinc 6.12.1 has requirement msgpack<0.6.0,>=0.5.6, but you'll have msgpack 0.6.0 which is incompatible.\u001b[0m\n",
      "Installing collected packages: xgboost\n",
      "Successfully installed xgboost-0.90\n",
      "\u001b[33mYou are using pip version 10.0.1, however version 19.1.1 is available.\n",
      "You should consider upgrading via the 'pip install --upgrade pip' command.\u001b[0m\n"
     ]
    }
   ],
   "source": [
    "!pip install xgboost"
   ]
  },
  {
   "cell_type": "code",
   "execution_count": 27,
   "metadata": {},
   "outputs": [
    {
     "name": "stdout",
     "output_type": "stream",
     "text": [
      "Validation Accuracy Score   :  0.7984\n",
      "Validation Precision Score  :  0.7693973819958551\n",
      "Validation Recall Score     :  0.85224\n",
      "Validation F1-Score         :  0.8087021418492188\n",
      "Validation ROC-AUC Score    :  0.7984\n",
      "time :  24.024915194511415  mins\n"
     ]
    }
   ],
   "source": [
    "# XGBoost Model\n",
    "from xgboost import XGBClassifier\n",
    "\n",
    "start_time    = time.time()\n",
    "xgb_clf = XGBClassifier()\n",
    "xgb_acc = cv_performance(xgb_clf, X1_11, y1_11, k=2)\n",
    "print(\"time : \", ((time.time() - start_time)/60), \" mins\")"
   ]
  },
  {
   "cell_type": "markdown",
   "metadata": {},
   "source": [
    "### Note to Readers:\n",
    "\n",
    "I would like to apologies in advance. <br>\n",
    "Originally, I plan to include kNN, SGD, SVM & AdaBoost in the analysis. <br>\n",
    "However, these algorithms took way too much time than I originally anticipated (large sample size), which led me to my decision to drop them. <br>\n",
    "With that being said, let's jump right into Version 1.2 ! <br>\n",
    "<br>"
   ]
  },
  {
   "cell_type": "markdown",
   "metadata": {},
   "source": [
    "# Version 1.2 - Monogram, Word Count"
   ]
  },
  {
   "cell_type": "code",
   "execution_count": 32,
   "metadata": {},
   "outputs": [
    {
     "name": "stdout",
     "output_type": "stream",
     "text": [
      "(25000, 108593)\n"
     ]
    }
   ],
   "source": [
    "# Version 1.2 - Word Count (Monogram)\n",
    "\n",
    "mono_wordcount     = CountVectorizer(binary=False)\n",
    "mono_wordcount_bow = mono_wordcount.fit_transform(np.array(processed_list)) # bow: bag-of-words\n",
    "df1_12     = pd.DataFrame(mono_wordcount_bow.toarray(), columns=mono_wordcount.get_feature_names())\n",
    "\n",
    "print(df1_12.shape)"
   ]
  },
  {
   "cell_type": "code",
   "execution_count": 33,
   "metadata": {},
   "outputs": [
    {
     "name": "stdout",
     "output_type": "stream",
     "text": [
      "(25000, 38868)\n"
     ]
    }
   ],
   "source": [
    "# Decision 01 - Drop Any Column with Sum Value Less Than 2\n",
    "\n",
    "df1_12 = df1_12[df1_12.columns[df1_12.sum() > 1]]\n",
    "print(df1_12.shape)"
   ]
  },
  {
   "cell_type": "code",
   "execution_count": 37,
   "metadata": {},
   "outputs": [
    {
     "name": "stdout",
     "output_type": "stream",
     "text": [
      "(25000,)\n",
      "(25000, 38868)\n"
     ]
    }
   ],
   "source": [
    "y1_12 = df1[\"label\"].copy()\n",
    "X1_12 = df1_12.copy()\n",
    "\n",
    "print(y1_12.shape)\n",
    "print(X1_12.shape)"
   ]
  },
  {
   "cell_type": "markdown",
   "metadata": {},
   "source": [
    "### Logistic Regression"
   ]
  },
  {
   "cell_type": "code",
   "execution_count": 40,
   "metadata": {},
   "outputs": [
    {
     "name": "stdout",
     "output_type": "stream",
     "text": [
      "parameter :  0.01\n",
      "Validation Accuracy Score   :  0.86572\n",
      "Validation Precision Score  :  0.8551247238271735\n",
      "Validation Recall Score     :  0.88064\n",
      "Validation F1-Score         :  0.8676723681140462\n",
      "Validation ROC-AUC Score    :  0.86572\n",
      "time :  0.6212227821350098  mins\n",
      "parameter :  0.05\n",
      "Validation Accuracy Score   :  0.87312\n",
      "Validation Precision Score  :  0.8645642180114188\n",
      "Validation Recall Score     :  0.88488\n",
      "Validation F1-Score         :  0.8745836112061711\n",
      "Validation ROC-AUC Score    :  0.8731199999999999\n",
      "time :  1.2446386814117432  mins\n",
      "parameter :  0.075\n",
      "Validation Accuracy Score   :  0.8728\n",
      "Validation Precision Score  :  0.865011271171176\n",
      "Validation Recall Score     :  0.8835200000000001\n",
      "Validation F1-Score         :  0.8741383129940717\n",
      "Validation ROC-AUC Score    :  0.8728\n",
      "time :  1.8695732673009238  mins\n",
      "parameter :  0.1\n",
      "Validation Accuracy Score   :  0.8722799999999999\n",
      "Validation Precision Score  :  0.8650538412501507\n",
      "Validation Recall Score     :  0.8822399999999999\n",
      "Validation F1-Score         :  0.8735325710309404\n",
      "Validation ROC-AUC Score    :  0.8722799999999999\n",
      "time :  2.4969087719917296  mins\n",
      "parameter :  0.2\n",
      "Validation Accuracy Score   :  0.86912\n",
      "Validation Precision Score  :  0.8623799743617748\n",
      "Validation Recall Score     :  0.87856\n",
      "Validation F1-Score         :  0.8703473848775487\n",
      "Validation ROC-AUC Score    :  0.8691199999999999\n",
      "time :  3.1270278453826905  mins\n",
      "parameter :  0.3\n",
      "Validation Accuracy Score   :  0.8671599999999999\n",
      "Validation Precision Score  :  0.8608220790260286\n",
      "Validation Recall Score     :  0.87608\n",
      "Validation F1-Score         :  0.8683330237055578\n",
      "Validation ROC-AUC Score    :  0.86716\n",
      "time :  3.7585075736045837  mins\n"
     ]
    }
   ],
   "source": [
    "lr_acc_list = [] \n",
    "start_time   = time.time()\n",
    "C_param_range = [0.01, 0.05, 0.075, 0.1, 0.2, 0.3]\n",
    "\n",
    "for param in C_param_range:\n",
    "    print(\"parameter : \", param)\n",
    "    lr_clf = LogisticRegression(penalty='l2', C=param, random_state=42)\n",
    "    lr_acc = cv_performance(lr_clf, X1_12, y1_12, k=2)\n",
    "    lr_acc_list.append(lr_acc)\n",
    "    print(\"time : \", ((time.time() - start_time)/60), \" mins\")"
   ]
  },
  {
   "cell_type": "code",
   "execution_count": 41,
   "metadata": {},
   "outputs": [
    {
     "data": {
      "text/plain": [
       "Text(0, 0.5, 'Cross-Validated Accuracy')"
      ]
     },
     "execution_count": 41,
     "metadata": {},
     "output_type": "execute_result"
    },
    {
     "data": {
      "image/png": "[encoded data removed]",
      "text/plain": [
       "<Figure size 432x288 with 1 Axes>"
      ]
     },
     "metadata": {},
     "output_type": "display_data"
    }
   ],
   "source": [
    "# Plot Accuracy (Logistic Regression)\n",
    "\n",
    "plt.plot(C_param_range, lr_acc_list)\n",
    "plt.title('Logistic Regression Classifier (Mono, Word Count)')\n",
    "plt.xlabel('Value of C Parameters for Logistic Regression Classifier')\n",
    "plt.ylabel('Cross-Validated Accuracy')"
   ]
  },
  {
   "cell_type": "markdown",
   "metadata": {},
   "source": [
    "### Gaussian Naïve Bayes Classifier"
   ]
  },
  {
   "cell_type": "code",
   "execution_count": 47,
   "metadata": {},
   "outputs": [
    {
     "name": "stdout",
     "output_type": "stream",
     "text": [
      "parameter :  1e-05\n",
      "Validation Accuracy Score   :  0.7049198234088464\n",
      "Validation Precision Score  :  0.7370819797019489\n",
      "Validation Recall Score     :  0.6372806546095612\n",
      "Validation F1-Score         :  0.6835076182449327\n",
      "Validation ROC-AUC Score    :  0.7049198234088466\n",
      "time :  1.8281762282053629  mins\n",
      "parameter :  5e-05\n",
      "Validation Accuracy Score   :  0.7267600541068573\n",
      "Validation Precision Score  :  0.8124349339308331\n",
      "Validation Recall Score     :  0.5898408396171321\n",
      "Validation F1-Score         :  0.683367053578599\n",
      "Validation ROC-AUC Score    :  0.7267600541068573\n",
      "time :  3.6573757092158  mins\n",
      "parameter :  0.0001\n",
      "Validation Accuracy Score   :  0.7159202875867866\n",
      "Validation Precision Score  :  0.8295846915275439\n",
      "Validation Recall Score     :  0.5435209350318706\n",
      "Validation F1-Score         :  0.6566834334390842\n",
      "Validation ROC-AUC Score    :  0.7159202875867866\n",
      "time :  5.485408389568329  mins\n",
      "parameter :  0.0005\n",
      "Validation Accuracy Score   :  0.6708801654004981\n",
      "Validation Precision Score  :  0.8533351248864726\n",
      "Validation Recall Score     :  0.41272058772984194\n",
      "Validation F1-Score         :  0.5562774259117679\n",
      "Validation ROC-AUC Score    :  0.6708801654004982\n",
      "time :  7.313962602615357  mins\n",
      "parameter :  0.001\n",
      "Validation Accuracy Score   :  0.6470402098989066\n",
      "Validation Precision Score  :  0.8575254910917897\n",
      "Validation Recall Score     :  0.35272066376792593\n",
      "Validation F1-Score         :  0.4997616596881711\n",
      "Validation ROC-AUC Score    :  0.6470402098989066\n",
      "time :  9.143006281057994  mins\n",
      "parameter :  0.005\n",
      "Validation Accuracy Score   :  0.596160180445286\n",
      "Validation Precision Score  :  0.8764980557365156\n",
      "Validation Recall Score     :  0.22392048290481456\n",
      "Validation F1-Score         :  0.35663879105213997\n",
      "Validation ROC-AUC Score    :  0.596160180445286\n",
      "time :  10.971597905953725  mins\n"
     ]
    }
   ],
   "source": [
    "from sklearn.naive_bayes import GaussianNB\n",
    "\n",
    "gnb_acc_list = [] \n",
    "start_time   = time.time()\n",
    "gparam_range  = [1e-5, 5e-5, 1e-4, 5e-4, 1e-3, 5e-3] \n",
    "\n",
    "for param in gparam_range:\n",
    "    print(\"parameter : \", param)\n",
    "    gnb_clf = GaussianNB(var_smoothing=param)\n",
    "    gnb_acc = cv_performance(gnb_clf, X1_12, y1_12, k=3)\n",
    "    gnb_acc_list.append(gnb_acc)\n",
    "    print(\"time : \", ((time.time() - start_time)/60), \" mins\")"
   ]
  },
  {
   "cell_type": "code",
   "execution_count": 48,
   "metadata": {},
   "outputs": [
    {
     "data": {
      "text/plain": [
       "Text(0, 0.5, 'Cross-Validated Accuracy')"
      ]
     },
     "execution_count": 48,
     "metadata": {},
     "output_type": "execute_result"
    },
    {
     "data": {
      "image/png": "[encoded data removed]",
      "text/plain": [
       "<Figure size 432x288 with 1 Axes>"
      ]
     },
     "metadata": {},
     "output_type": "display_data"
    }
   ],
   "source": [
    "# Plot Accuracy (Gaussian NB)\n",
    "\n",
    "plt.plot(gparam_range, gnb_acc_list)\n",
    "plt.title('Gaussian Naïve Bayes Classifier (Mono, Word Count)')\n",
    "plt.xlabel('Value of Parameters (var_smoothing) for Gaussian NB')\n",
    "plt.ylabel('Cross-Validated Accuracy')"
   ]
  },
  {
   "cell_type": "markdown",
   "metadata": {},
   "source": [
    "### Bernoulli Naïve Bayes Classifier"
   ]
  },
  {
   "cell_type": "code",
   "execution_count": 49,
   "metadata": {},
   "outputs": [
    {
     "name": "stdout",
     "output_type": "stream",
     "text": [
      "parameter :  0.0\n",
      "Validation Accuracy Score   :  0.7615201057559178\n",
      "Validation Precision Score  :  0.7687049727594873\n",
      "Validation Recall Score     :  0.7482404768156233\n",
      "Validation F1-Score         :  0.7583142286331498\n",
      "Validation ROC-AUC Score    :  0.7615201057559178\n",
      "time :  2.6622183163960775  mins\n",
      "parameter :  0.5\n",
      "Validation Accuracy Score   :  0.8400000875590058\n",
      "Validation Precision Score  :  0.8649407674044194\n",
      "Validation Recall Score     :  0.8058401319253078\n",
      "Validation F1-Score         :  0.8343295173384973\n",
      "Validation ROC-AUC Score    :  0.8400000875590058\n",
      "time :  5.330359570185343  mins\n",
      "parameter :  0.75\n",
      "Validation Accuracy Score   :  0.8406000491636137\n",
      "Validation Precision Score  :  0.8662527101985401\n",
      "Validation Recall Score     :  0.8056001127206991\n",
      "Validation F1-Score         :  0.834804557812797\n",
      "Validation ROC-AUC Score    :  0.8406000491636137\n",
      "time :  7.999300356705984  mins\n",
      "parameter :  1.0\n",
      "Validation Accuracy Score   :  0.8407200971689908\n",
      "Validation Precision Score  :  0.8673570384472854\n",
      "Validation Recall Score     :  0.804480221515068\n",
      "Validation F1-Score         :  0.8347112951697185\n",
      "Validation ROC-AUC Score    :  0.8407200971689908\n",
      "time :  10.668381170431774  mins\n",
      "parameter :  2.0\n",
      "Validation Accuracy Score   :  0.8404400619625898\n",
      "Validation Precision Score  :  0.8697742112971062\n",
      "Validation Recall Score     :  0.8007999782484996\n",
      "Validation F1-Score         :  0.8338372490158767\n",
      "Validation ROC-AUC Score    :  0.8404400619625898\n",
      "time :  13.336672004063924  mins\n",
      "parameter :  3.0\n",
      "Validation Accuracy Score   :  0.8406799947602849\n",
      "Validation Precision Score  :  0.8719979677931806\n",
      "Validation Recall Score     :  0.7986398054070221\n",
      "Validation F1-Score         :  0.8336636536344045\n",
      "Validation ROC-AUC Score    :  0.8406799947602847\n",
      "time :  16.006321998437247  mins\n"
     ]
    }
   ],
   "source": [
    "from sklearn.naive_bayes import BernoulliNB\n",
    "\n",
    "bnb_acc_list = [] \n",
    "start_time   = time.time()\n",
    "param_range  = [0.0, 0.5, 0.75, 1.0, 2.0, 3.0] \n",
    "\n",
    "for param in param_range:\n",
    "    print(\"parameter : \", param)\n",
    "    bnb_clf = BernoulliNB(alpha=param)\n",
    "    bnb_acc = cv_performance(bnb_clf, X1_12, y1_12, k=3)\n",
    "    bnb_acc_list.append(bnb_acc)\n",
    "    print(\"time : \", ((time.time() - start_time)/60), \" mins\")"
   ]
  },
  {
   "cell_type": "code",
   "execution_count": 50,
   "metadata": {},
   "outputs": [
    {
     "data": {
      "text/plain": [
       "Text(0, 0.5, 'Cross-Validated Accuracy')"
      ]
     },
     "execution_count": 50,
     "metadata": {},
     "output_type": "execute_result"
    },
    {
     "data": {
      "image/png": "[encoded data removed]",
      "text/plain": [
       "<Figure size 432x288 with 1 Axes>"
      ]
     },
     "metadata": {},
     "output_type": "display_data"
    }
   ],
   "source": [
    "# Plot Accuracy (Bernoulli NB)\n",
    "\n",
    "plt.plot(param_range, bnb_acc_list)\n",
    "plt.title('Bernoulli Naïve Bayes Classifier (Mono, Word Count) ')\n",
    "plt.xlabel('Value of Parameters (alpha) for Bernoulli NB')\n",
    "plt.ylabel('Cross-Validated Accuracy')"
   ]
  },
  {
   "cell_type": "markdown",
   "metadata": {},
   "source": [
    "### Multinomial Naïve Bayes Classifier"
   ]
  },
  {
   "cell_type": "code",
   "execution_count": 53,
   "metadata": {},
   "outputs": [
    {
     "name": "stdout",
     "output_type": "stream",
     "text": [
      "parameter :  0.0\n",
      "Validation Accuracy Score   :  0.77956\n",
      "Validation Precision Score  :  0.7820043945913704\n",
      "Validation Recall Score     :  0.7752800000000001\n",
      "Validation F1-Score         :  0.778610941045865\n",
      "Validation ROC-AUC Score    :  0.77956\n",
      "time :  0.9299917737642924  mins\n",
      "parameter :  0.25\n",
      "Validation Accuracy Score   :  0.84968\n",
      "Validation Precision Score  :  0.8641783193797512\n",
      "Validation Recall Score     :  0.82976\n",
      "Validation F1-Score         :  0.8466032774119212\n",
      "Validation ROC-AUC Score    :  0.8496799999999999\n",
      "time :  1.8606145143508912  mins\n",
      "parameter :  0.5\n",
      "Validation Accuracy Score   :  0.85024\n",
      "Validation Precision Score  :  0.8654993213259539\n",
      "Validation Recall Score     :  0.82936\n",
      "Validation F1-Score         :  0.8470305887607008\n",
      "Validation ROC-AUC Score    :  0.85024\n",
      "time :  2.7910583933194477  mins\n",
      "parameter :  0.75\n",
      "Validation Accuracy Score   :  0.8502000000000001\n",
      "Validation Precision Score  :  0.8661556691359495\n",
      "Validation Recall Score     :  0.8283999999999999\n",
      "Validation F1-Score         :  0.8468391974678969\n",
      "Validation ROC-AUC Score    :  0.8502000000000001\n",
      "time :  3.7212227900822956  mins\n",
      "parameter :  1.0\n",
      "Validation Accuracy Score   :  0.8498800000000001\n",
      "Validation Precision Score  :  0.8660658433269836\n",
      "Validation Recall Score     :  0.8277599999999999\n",
      "Validation F1-Score         :  0.8464602551706368\n",
      "Validation ROC-AUC Score    :  0.8498800000000001\n",
      "time :  4.6521544853846235  mins\n",
      "parameter :  1.5\n",
      "Validation Accuracy Score   :  0.8501200000000001\n",
      "Validation Precision Score  :  0.8666192981158407\n",
      "Validation Recall Score     :  0.8276\n",
      "Validation F1-Score         :  0.8466385779188691\n",
      "Validation ROC-AUC Score    :  0.8501200000000001\n",
      "time :  5.5829483350118005  mins\n"
     ]
    }
   ],
   "source": [
    "from sklearn.naive_bayes import MultinomialNB\n",
    "\n",
    "mnb_acc_list = [] \n",
    "start_time   = time.time()\n",
    "param_range  = [0.0, 0.25, 0.5, 0.75, 1.0, 1.5]  \n",
    "\n",
    "for param in param_range:\n",
    "    print(\"parameter : \", param)\n",
    "    mnb_clf = MultinomialNB(alpha=param)\n",
    "    mnb_acc = cv_performance(mnb_clf, X1_12, y1_12)\n",
    "    mnb_acc_list.append(mnb_acc)\n",
    "    print(\"time : \", ((time.time() - start_time)/60), \" mins\")"
   ]
  },
  {
   "cell_type": "code",
   "execution_count": 54,
   "metadata": {},
   "outputs": [
    {
     "data": {
      "text/plain": [
       "Text(0, 0.5, 'Cross-Validated Mean Accuracy')"
      ]
     },
     "execution_count": 54,
     "metadata": {},
     "output_type": "execute_result"
    },
    {
     "data": {
      "image/png": "[encoded data removed]",
      "text/plain": [
       "<Figure size 432x288 with 1 Axes>"
      ]
     },
     "metadata": {},
     "output_type": "display_data"
    }
   ],
   "source": [
    "# Plot Accuracy (Multinomial NB)\n",
    "\n",
    "plt.plot(param_range, mnb_acc_list)\n",
    "plt.title('Multinomial Naïve Bayes Classifier (Mono, Word Count)')\n",
    "plt.xlabel('Value of Parameters (alpha) for Multinomial NB')\n",
    "plt.ylabel('Cross-Validated Mean Accuracy')"
   ]
  },
  {
   "cell_type": "markdown",
   "metadata": {},
   "source": [
    "### Decision Tree Classifier "
   ]
  },
  {
   "cell_type": "code",
   "execution_count": 55,
   "metadata": {},
   "outputs": [
    {
     "name": "stdout",
     "output_type": "stream",
     "text": [
      "depth :  1\n",
      "Validation Accuracy Score   :  0.65076\n",
      "Validation Precision Score  :  0.6055793451545759\n",
      "Validation Recall Score     :  0.8648\n",
      "Validation F1-Score         :  0.7123288927826517\n",
      "Validation ROC-AUC Score    :  0.65076\n",
      "time :  0.8189746022224427  mins\n",
      "depth :  5\n",
      "Validation Accuracy Score   :  0.7098800000000001\n",
      "Validation Precision Score  :  0.6639297343765345\n",
      "Validation Recall Score     :  0.85032\n",
      "Validation F1-Score         :  0.7455607709679422\n",
      "Validation ROC-AUC Score    :  0.7098800000000001\n",
      "time :  2.4004443407058718  mins\n",
      "depth :  10\n",
      "Validation Accuracy Score   :  0.7352799999999999\n",
      "Validation Precision Score  :  0.7001521563711526\n",
      "Validation Recall Score     :  0.82304\n",
      "Validation F1-Score         :  0.7566284645957966\n",
      "Validation ROC-AUC Score    :  0.7352799999999999\n",
      "time :  4.807361725966135  mins\n",
      "depth :  15\n",
      "Validation Accuracy Score   :  0.734\n",
      "Validation Precision Score  :  0.7019936446865369\n",
      "Validation Recall Score     :  0.81336\n",
      "Validation F1-Score         :  0.753522513897209\n",
      "Validation ROC-AUC Score    :  0.7340000000000002\n",
      "time :  7.911627793312073  mins\n",
      "depth :  20\n",
      "Validation Accuracy Score   :  0.73368\n",
      "Validation Precision Score  :  0.70749918964546\n",
      "Validation Recall Score     :  0.79696\n",
      "Validation F1-Score         :  0.7494883991856488\n",
      "Validation ROC-AUC Score    :  0.73368\n",
      "time :  11.581800699234009  mins\n",
      "depth :  25\n",
      "Validation Accuracy Score   :  0.7291199999999999\n",
      "Validation Precision Score  :  0.7079951767018992\n",
      "Validation Recall Score     :  0.7801600000000001\n",
      "Validation F1-Score         :  0.7422715595142112\n",
      "Validation ROC-AUC Score    :  0.72912\n",
      "time :  15.733771578470867  mins\n",
      "depth :  30\n",
      "Validation Accuracy Score   :  0.7268800000000001\n",
      "Validation Precision Score  :  0.7132117558174069\n",
      "Validation Recall Score     :  0.7590399999999999\n",
      "Validation F1-Score         :  0.735388291417001\n",
      "Validation ROC-AUC Score    :  0.7268800000000001\n",
      "time :  20.259495826562247  mins\n"
     ]
    }
   ],
   "source": [
    "# Decision Tree Classifier\n",
    "# Parameter Tuning \n",
    "\n",
    "from sklearn.tree import DecisionTreeClassifier\n",
    "\n",
    "dt_acc_list = [] \n",
    "start_time   = time.time()\n",
    "dt_range  = [1, 5, 10, 15, 20, 25, 30]\n",
    "\n",
    "for param in dt_range:\n",
    "    print(\"depth : \", param)\n",
    "    dt_clf = DecisionTreeClassifier(max_depth=param, random_state=42)\n",
    "    dt_acc = cv_performance(dt_clf, X1_12, y1_12)\n",
    "    dt_acc_list.append(dt_acc)\n",
    "    print(\"time : \", ((time.time() - start_time)/60), \" mins\")"
   ]
  },
  {
   "cell_type": "code",
   "execution_count": 56,
   "metadata": {},
   "outputs": [
    {
     "data": {
      "text/plain": [
       "Text(0, 0.5, 'Cross-Validated Mean Accuracy')"
      ]
     },
     "execution_count": 56,
     "metadata": {},
     "output_type": "execute_result"
    },
    {
     "data": {
      "image/png": "[encoded data removed]",
      "text/plain": [
       "<Figure size 432x288 with 1 Axes>"
      ]
     },
     "metadata": {},
     "output_type": "display_data"
    }
   ],
   "source": [
    "# Plot Accuracy (Decision Tree)\n",
    "\n",
    "plt.plot(dt_range, dt_acc_list)\n",
    "plt.title('Decision Tree Classifier (Mono, Word Count)')\n",
    "plt.xlabel('Values of Depth for Decision Tree Classifier')\n",
    "plt.ylabel('Cross-Validated Mean Accuracy')"
   ]
  },
  {
   "cell_type": "markdown",
   "metadata": {},
   "source": [
    "### XGBoost Classifier"
   ]
  },
  {
   "cell_type": "code",
   "execution_count": 57,
   "metadata": {},
   "outputs": [
    {
     "name": "stdout",
     "output_type": "stream",
     "text": [
      "Validation Accuracy Score   :  0.80048\n",
      "Validation Precision Score  :  0.7701205144013576\n",
      "Validation Recall Score     :  0.8567199999999999\n",
      "Validation F1-Score         :  0.8111110553382597\n",
      "Validation ROC-AUC Score    :  0.8004799999999999\n",
      "time :  25.424437979857128  mins\n"
     ]
    }
   ],
   "source": [
    "from xgboost import XGBClassifier\n",
    "\n",
    "start_time    = time.time()\n",
    "xgb_clf = XGBClassifier()\n",
    "xgb_acc = cv_performance(xgb_clf, X1_12, y1_12, k=2)\n",
    "print(\"time : \", ((time.time() - start_time)/60), \" mins\")"
   ]
  },
  {
   "cell_type": "markdown",
   "metadata": {},
   "source": [
    "# Version 1.3 - Monogram, Term-Frequency \n",
    "<br>"
   ]
  },
  {
   "cell_type": "code",
   "execution_count": 58,
   "metadata": {},
   "outputs": [
    {
     "name": "stdout",
     "output_type": "stream",
     "text": [
      "(25000, 108593)\n"
     ]
    }
   ],
   "source": [
    "# Version 1.3 - Term Frequency (Monogram)\n",
    "\n",
    "mono_tf     = CountVectorizer(binary=False)\n",
    "mono_tf_bow = mono_tf.fit_transform(np.array(processed_list)) # bow: bag-of-words\n",
    "df1_13     = pd.DataFrame(mono_tf_bow.toarray(), columns=mono_tf.get_feature_names())\n",
    "\n",
    "print(df1_13.shape)"
   ]
  },
  {
   "cell_type": "code",
   "execution_count": 59,
   "metadata": {},
   "outputs": [
    {
     "name": "stdout",
     "output_type": "stream",
     "text": [
      "2997138\n"
     ]
    }
   ],
   "source": [
    "# Total Terms \n",
    "total = df1_13.to_numpy().sum()\n",
    "print(total)"
   ]
  },
  {
   "cell_type": "code",
   "execution_count": 60,
   "metadata": {},
   "outputs": [
    {
     "name": "stdout",
     "output_type": "stream",
     "text": [
      "(25000,)\n",
      "(25000, 108593)\n"
     ]
    }
   ],
   "source": [
    "# Divide term count/total terms (term-frequency)\n",
    "df1_13 = df1_13.div(total)\n",
    "\n",
    "y1_13 = df1[\"label\"].copy()\n",
    "X1_13 = df1_13.copy()\n",
    "\n",
    "print(y1_13.shape)\n",
    "print(X1_13.shape)"
   ]
  },
  {
   "cell_type": "markdown",
   "metadata": {},
   "source": [
    "### Logistic Regression"
   ]
  },
  {
   "cell_type": "code",
   "execution_count": 61,
   "metadata": {},
   "outputs": [
    {
     "name": "stdout",
     "output_type": "stream",
     "text": [
      "parameter :  0.05\n",
      "Validation Accuracy Score   :  0.69336\n",
      "Validation Precision Score  :  0.7844459551656489\n",
      "Validation Recall Score     :  0.53384\n",
      "Validation F1-Score         :  0.6350488396086567\n",
      "Validation ROC-AUC Score    :  0.6933600000000001\n",
      "time :  1.5622446934382122  mins\n",
      "parameter :  0.075\n",
      "Validation Accuracy Score   :  0.69572\n",
      "Validation Precision Score  :  0.7225094497295477\n",
      "Validation Recall Score     :  0.66056\n",
      "Validation F1-Score         :  0.680218526632768\n",
      "Validation ROC-AUC Score    :  0.6957199999999999\n",
      "time :  3.1119592587153115  mins\n",
      "parameter :  0.1\n",
      "Validation Accuracy Score   :  0.6956800000000001\n",
      "Validation Precision Score  :  0.7223368419468479\n",
      "Validation Recall Score     :  0.66072\n",
      "Validation F1-Score         :  0.6802429664313789\n",
      "Validation ROC-AUC Score    :  0.6956800000000001\n",
      "time :  4.6584478656450905  mins\n",
      "parameter :  0.5\n",
      "Validation Accuracy Score   :  0.6934400000000001\n",
      "Validation Precision Score  :  0.7846923312191469\n",
      "Validation Recall Score     :  0.53376\n",
      "Validation F1-Score         :  0.6350757545365802\n",
      "Validation ROC-AUC Score    :  0.6934400000000001\n",
      "time :  6.205871784687043  mins\n",
      "parameter :  1\n",
      "Validation Accuracy Score   :  0.6932400000000001\n",
      "Validation Precision Score  :  0.7335184690667841\n",
      "Validation Recall Score     :  0.6392800000000001\n",
      "Validation F1-Score         :  0.670431594519843\n",
      "Validation ROC-AUC Score    :  0.6932400000000001\n",
      "time :  7.753037921587626  mins\n"
     ]
    }
   ],
   "source": [
    "from sklearn.linear_model import LogisticRegression\n",
    "\n",
    "lr_acc_list = [] \n",
    "start_time   = time.time()\n",
    "C_param_range = [0.05, 0.075, 0.1, 0.5, 1]\n",
    "\n",
    "for param in C_param_range:\n",
    "    print(\"parameter : \", param)\n",
    "    lr_clf = LogisticRegression(penalty='l2', C=param, random_state=42)\n",
    "    lr_acc = cv_performance(lr_clf, X1_13, y1_13, k=2)\n",
    "    lr_acc_list.append(lr_acc)\n",
    "    print(\"time : \", ((time.time() - start_time)/60), \" mins\")"
   ]
  },
  {
   "cell_type": "code",
   "execution_count": 62,
   "metadata": {},
   "outputs": [
    {
     "data": {
      "text/plain": [
       "Text(0, 0.5, 'Cross-Validated Accuracy')"
      ]
     },
     "execution_count": 62,
     "metadata": {},
     "output_type": "execute_result"
    },
    {
     "data": {
      "image/png": "[encoded data removed]",
      "text/plain": [
       "<Figure size 432x288 with 1 Axes>"
      ]
     },
     "metadata": {},
     "output_type": "display_data"
    }
   ],
   "source": [
    "# Plot Accuracy (Logistic Regression)\n",
    "\n",
    "plt.plot(C_param_range, lr_acc_list)\n",
    "plt.title('Logistic Regression Classifier (Mono, Term-Frequency)')\n",
    "plt.xlabel('Value of C Parameters for Logistic Regression Classifier')\n",
    "plt.ylabel('Cross-Validated Accuracy')"
   ]
  },
  {
   "cell_type": "markdown",
   "metadata": {},
   "source": [
    "### Gaussian Naïve Bayes Classifier"
   ]
  },
  {
   "cell_type": "code",
   "execution_count": 68,
   "metadata": {},
   "outputs": [
    {
     "name": "stdout",
     "output_type": "stream",
     "text": [
      "parameter :  1e-05\n",
      "Validation Accuracy Score   :  0.692\n",
      "Validation Precision Score  :  0.7231793341035024\n",
      "Validation Recall Score     :  0.62216\n",
      "Validation F1-Score         :  0.6688727860198955\n",
      "Validation ROC-AUC Score    :  0.692\n",
      "time :  2.863401929537455  mins\n",
      "parameter :  5e-05\n",
      "Validation Accuracy Score   :  0.71968\n",
      "Validation Precision Score  :  0.8031542131258608\n",
      "Validation Recall Score     :  0.5820000000000001\n",
      "Validation F1-Score         :  0.6749113520836754\n",
      "Validation ROC-AUC Score    :  0.7196800000000001\n",
      "time :  5.724912345409393  mins\n",
      "parameter :  0.0001\n",
      "Validation Accuracy Score   :  0.70872\n",
      "Validation Precision Score  :  0.8199837070214626\n",
      "Validation Recall Score     :  0.53488\n",
      "Validation F1-Score         :  0.6474114273704819\n",
      "Validation ROC-AUC Score    :  0.70872\n",
      "time :  8.582732518513998  mins\n",
      "parameter :  0.0005\n",
      "Validation Accuracy Score   :  0.6664\n",
      "Validation Precision Score  :  0.8423926992032035\n",
      "Validation Recall Score     :  0.40944\n",
      "Validation F1-Score         :  0.5509563609714834\n",
      "Validation ROC-AUC Score    :  0.6664\n",
      "time :  11.443643840154012  mins\n",
      "parameter :  0.001\n",
      "Validation Accuracy Score   :  0.64404\n",
      "Validation Precision Score  :  0.847837841876032\n",
      "Validation Recall Score     :  0.35112\n",
      "Validation F1-Score         :  0.49647111312532327\n",
      "Validation ROC-AUC Score    :  0.64404\n",
      "time :  14.303351326783497  mins\n",
      "parameter :  0.005\n",
      "Validation Accuracy Score   :  0.59344\n",
      "Validation Precision Score  :  0.8641051419486447\n",
      "Validation Recall Score     :  0.22168\n",
      "Validation F1-Score         :  0.3527661040493061\n",
      "Validation ROC-AUC Score    :  0.59344\n",
      "time :  17.163861886660257  mins\n",
      "parameter :  0.01\n",
      "Validation Accuracy Score   :  0.57272\n",
      "Validation Precision Score  :  0.8724336134453782\n",
      "Validation Recall Score     :  0.17032\n",
      "Validation F1-Score         :  0.2849774193548387\n",
      "Validation ROC-AUC Score    :  0.57272\n",
      "time :  20.01200346549352  mins\n",
      "parameter :  0.05\n",
      "Validation Accuracy Score   :  0.53416\n",
      "Validation Precision Score  :  0.8832329249306167\n",
      "Validation Recall Score     :  0.07872\n",
      "Validation F1-Score         :  0.1445555696245231\n",
      "Validation ROC-AUC Score    :  0.53416\n",
      "time :  22.85974489847819  mins\n",
      "parameter :  0.1\n",
      "Validation Accuracy Score   :  0.52332\n",
      "Validation Precision Score  :  0.899998494520053\n",
      "Validation Recall Score     :  0.05248\n",
      "Validation F1-Score         :  0.09917640036827913\n",
      "Validation ROC-AUC Score    :  0.52332\n",
      "time :  25.70648555358251  mins\n",
      "parameter :  0.5\n",
      "Validation Accuracy Score   :  0.50648\n",
      "Validation Precision Score  :  0.8998824451410659\n",
      "Validation Recall Score     :  0.01464\n",
      "Validation F1-Score         :  0.02880267696990372\n",
      "Validation ROC-AUC Score    :  0.50648\n",
      "time :  28.553361721833546  mins\n"
     ]
    }
   ],
   "source": [
    "from sklearn.naive_bayes import GaussianNB\n",
    "\n",
    "gnb_acc_list = [] \n",
    "start_time   = time.time()\n",
    "gparam_range  = [1e-5, 5e-5, 1e-4, 5e-4, 1e-3, 5e-3, 1e-2, 5e-2, 1e-1, 5e-1] \n",
    "\n",
    "for param in gparam_range:\n",
    "    print(\"parameter : \", param)\n",
    "    gnb_clf = GaussianNB(var_smoothing=param)\n",
    "    gnb_acc = cv_performance(gnb_clf, X1_13, y1_13, k=2)\n",
    "    gnb_acc_list.append(gnb_acc)\n",
    "    print(\"time : \", ((time.time() - start_time)/60), \" mins\")"
   ]
  },
  {
   "cell_type": "code",
   "execution_count": 69,
   "metadata": {},
   "outputs": [
    {
     "data": {
      "text/plain": [
       "Text(0, 0.5, 'Cross-Validated Accuracy')"
      ]
     },
     "execution_count": 69,
     "metadata": {},
     "output_type": "execute_result"
    },
    {
     "data": {
      "image/png": "[encoded data removed]",
      "text/plain": [
       "<Figure size 432x288 with 1 Axes>"
      ]
     },
     "metadata": {},
     "output_type": "display_data"
    }
   ],
   "source": [
    "# Plot Accuracy (Gaussian NB)\n",
    "\n",
    "plt.plot(gparam_range, gnb_acc_list)\n",
    "plt.title('Gaussian Naïve Bayes Classifier (Mono, Term Frequency)')\n",
    "plt.xlabel('Value of Parameters (var_smoothing) for Gaussian NB')\n",
    "plt.ylabel('Cross-Validated Accuracy')"
   ]
  },
  {
   "cell_type": "markdown",
   "metadata": {},
   "source": [
    "### Bernoulli Naïve Bayes Classifier"
   ]
  },
  {
   "cell_type": "code",
   "execution_count": 70,
   "metadata": {},
   "outputs": [
    {
     "name": "stdout",
     "output_type": "stream",
     "text": [
      "parameter :  0.0\n",
      "Validation Accuracy Score   :  0.7614000961536135\n",
      "Validation Precision Score  :  0.7688223108386182\n",
      "Validation Recall Score     :  0.7476804448058942\n",
      "Validation F1-Score         :  0.7580848400375236\n",
      "Validation ROC-AUC Score    :  0.7614000961536136\n",
      "time :  7.314589901765188  mins\n",
      "parameter :  0.5\n",
      "Validation Accuracy Score   :  0.839800055553885\n",
      "Validation Precision Score  :  0.8655758080002515\n",
      "Validation Recall Score     :  0.8045600807048254\n",
      "Validation F1-Score         :  0.8339370142634124\n",
      "Validation ROC-AUC Score    :  0.839800055553885\n",
      "time :  14.734104851881662  mins\n",
      "parameter :  0.75\n",
      "Validation Accuracy Score   :  0.8405200363615655\n",
      "Validation Precision Score  :  0.8671141969791006\n",
      "Validation Recall Score     :  0.8043200615002167\n",
      "Validation F1-Score         :  0.8345151920421124\n",
      "Validation ROC-AUC Score    :  0.8405200363615655\n",
      "time :  22.070009620984397  mins\n",
      "parameter :  1.0\n",
      "Validation Accuracy Score   :  0.8404000747631019\n",
      "Validation Precision Score  :  0.867771514635057\n",
      "Validation Recall Score     :  0.8032001894961222\n",
      "Validation F1-Score         :  0.8342138449874547\n",
      "Validation ROC-AUC Score    :  0.8404000747631022\n",
      "time :  29.320950734615327  mins\n",
      "parameter :  2.0\n",
      "Validation Accuracy Score   :  0.8401600267561887\n",
      "Validation Precision Score  :  0.8703471255935544\n",
      "Validation Recall Score     :  0.7994399526290418\n",
      "Validation F1-Score         :  0.8333585071854174\n",
      "Validation ROC-AUC Score    :  0.8401600267561888\n",
      "time :  36.17227962414424  mins\n",
      "parameter :  3.0\n",
      "Validation Accuracy Score   :  0.8398800107513242\n",
      "Validation Precision Score  :  0.87222721994489\n",
      "Validation Recall Score     :  0.7964798245809082\n",
      "Validation F1-Score         :  0.8325914481490342\n",
      "Validation ROC-AUC Score    :  0.8398800107513242\n",
      "time :  43.19802073637644  mins\n"
     ]
    }
   ],
   "source": [
    "from sklearn.naive_bayes import BernoulliNB\n",
    "\n",
    "bnb_acc_list = [] \n",
    "start_time   = time.time()\n",
    "param_range  = [0.0, 0.5, 0.75, 1.0, 2.0, 3.0] \n",
    "\n",
    "for param in param_range:\n",
    "    print(\"parameter : \", param)\n",
    "    bnb_clf = BernoulliNB(alpha=param)\n",
    "    bnb_acc = cv_performance(bnb_clf, X1_13, y1_13, k=3)\n",
    "    bnb_acc_list.append(bnb_acc)\n",
    "    print(\"time : \", ((time.time() - start_time)/60), \" mins\")"
   ]
  },
  {
   "cell_type": "code",
   "execution_count": 71,
   "metadata": {},
   "outputs": [
    {
     "data": {
      "text/plain": [
       "Text(0, 0.5, 'Cross-Validated Accuracy')"
      ]
     },
     "execution_count": 71,
     "metadata": {},
     "output_type": "execute_result"
    },
    {
     "data": {
      "image/png": "[encoded data removed]",
      "text/plain": [
       "<Figure size 432x288 with 1 Axes>"
      ]
     },
     "metadata": {},
     "output_type": "display_data"
    }
   ],
   "source": [
    "# Plot Accuracy (Bernoulli NB)\n",
    "\n",
    "plt.plot(param_range, bnb_acc_list)\n",
    "plt.title('Bernoulli Naïve Bayes Classifier (Mono, Term Frequency)')\n",
    "plt.xlabel('Value of Parameters (alpha) for Bernoulli NB')\n",
    "plt.ylabel('Cross-Validated Accuracy')"
   ]
  },
  {
   "cell_type": "markdown",
   "metadata": {},
   "source": [
    "### Multinomial Naïve Bayes Classifier"
   ]
  },
  {
   "cell_type": "code",
   "execution_count": 72,
   "metadata": {},
   "outputs": [
    {
     "name": "stdout",
     "output_type": "stream",
     "text": [
      "parameter :  0.0\n",
      "Validation Accuracy Score   :  0.8167197896371844\n",
      "Validation Precision Score  :  0.8287654666502385\n",
      "Validation Recall Score     :  0.7983996901947316\n",
      "Validation F1-Score         :  0.8132922095153007\n",
      "Validation ROC-AUC Score    :  0.8167197896371844\n",
      "time :  0.8240289012591044  mins\n",
      "parameter :  0.25\n",
      "Validation Accuracy Score   :  0.6923999128557474\n",
      "Validation Precision Score  :  0.7855288429964024\n",
      "Validation Recall Score     :  0.5332780482698206\n",
      "Validation F1-Score         :  0.6331464427245949\n",
      "Validation ROC-AUC Score    :  0.6923999128557473\n",
      "time :  1.637724256515503  mins\n",
      "parameter :  0.5\n",
      "Validation Accuracy Score   :  0.6917998936465303\n",
      "Validation Precision Score  :  0.7849766538691255\n",
      "Validation Recall Score     :  0.5323180098544589\n",
      "Validation F1-Score         :  0.6322486958451088\n",
      "Validation ROC-AUC Score    :  0.6917998936465303\n",
      "time :  2.4857418060302736  mins\n",
      "parameter :  0.75\n",
      "Validation Accuracy Score   :  0.6917199192475548\n",
      "Validation Precision Score  :  0.785051157676261\n",
      "Validation Recall Score     :  0.5319980546539474\n",
      "Validation F1-Score         :  0.6320597613150639\n",
      "Validation ROC-AUC Score    :  0.6917199192475548\n",
      "time :  3.3300368944803873  mins\n",
      "parameter :  1.0\n",
      "Validation Accuracy Score   :  0.6916799224472987\n",
      "Validation Precision Score  :  0.7850259819092495\n",
      "Validation Recall Score     :  0.5319180610534354\n",
      "Validation F1-Score         :  0.6319908512712652\n",
      "Validation ROC-AUC Score    :  0.6916799224472987\n",
      "time :  4.124565140406291  mins\n",
      "parameter :  1.5\n",
      "Validation Accuracy Score   :  0.6915199160447386\n",
      "Validation Precision Score  :  0.7846927252617149\n",
      "Validation Recall Score     :  0.5318380674529235\n",
      "Validation F1-Score         :  0.6318400294973955\n",
      "Validation ROC-AUC Score    :  0.6915199160447386\n",
      "time :  4.932196207841238  mins\n"
     ]
    }
   ],
   "source": [
    "from sklearn.naive_bayes import MultinomialNB\n",
    "\n",
    "mnb_acc_list = [] \n",
    "start_time   = time.time()\n",
    "param_range  = [0.0, 0.25, 0.5, 0.75, 1.0, 1.5]  \n",
    "\n",
    "for param in param_range:\n",
    "    print(\"parameter : \", param)\n",
    "    mnb_clf = MultinomialNB(alpha=param)\n",
    "    mnb_acc = cv_performance(mnb_clf, X1_13, y1_13, k=3)\n",
    "    mnb_acc_list.append(mnb_acc)\n",
    "    print(\"time : \", ((time.time() - start_time)/60), \" mins\")"
   ]
  },
  {
   "cell_type": "code",
   "execution_count": 73,
   "metadata": {},
   "outputs": [
    {
     "data": {
      "text/plain": [
       "Text(0, 0.5, 'Cross-Validated Mean Accuracy')"
      ]
     },
     "execution_count": 73,
     "metadata": {},
     "output_type": "execute_result"
    },
    {
     "data": {
      "image/png": "[encoded data removed]",
      "text/plain": [
       "<Figure size 432x288 with 1 Axes>"
      ]
     },
     "metadata": {},
     "output_type": "display_data"
    }
   ],
   "source": [
    "# Plot Accuracy (Multinomial NB)\n",
    "\n",
    "plt.plot(param_range, mnb_acc_list)\n",
    "plt.title('Multinomial Naïve Bayes Classifier (Mono, Term Frequency)')\n",
    "plt.xlabel('Value of Parameters (alpha) for Multinomial NB')\n",
    "plt.ylabel('Cross-Validated Mean Accuracy')"
   ]
  },
  {
   "cell_type": "markdown",
   "metadata": {},
   "source": [
    "### Decision Tree Classifier"
   ]
  },
  {
   "cell_type": "code",
   "execution_count": 74,
   "metadata": {},
   "outputs": [
    {
     "name": "stdout",
     "output_type": "stream",
     "text": [
      "depth :  1\n",
      "Validation Accuracy Score   :  0.65076\n",
      "Validation Precision Score  :  0.6055793451545759\n",
      "Validation Recall Score     :  0.8648\n",
      "Validation F1-Score         :  0.7123288927826517\n",
      "Validation ROC-AUC Score    :  0.65076\n",
      "time :  1.855936082204183  mins\n",
      "depth :  5\n",
      "Validation Accuracy Score   :  0.7098000000000001\n",
      "Validation Precision Score  :  0.6638457244035079\n",
      "Validation Recall Score     :  0.85032\n",
      "Validation F1-Score         :  0.7455074394951907\n",
      "Validation ROC-AUC Score    :  0.7098\n",
      "time :  5.513712267080943  mins\n",
      "depth :  10\n",
      "Validation Accuracy Score   :  0.73484\n",
      "Validation Precision Score  :  0.6993882178269734\n",
      "Validation Recall Score     :  0.82376\n",
      "Validation F1-Score         :  0.7564834685041494\n",
      "Validation ROC-AUC Score    :  0.7348399999999999\n",
      "time :  10.805342861016591  mins\n",
      "depth :  15\n",
      "Validation Accuracy Score   :  0.73472\n",
      "Validation Precision Score  :  0.7027867334173689\n",
      "Validation Recall Score     :  0.8136800000000001\n",
      "Validation F1-Score         :  0.7540989873815167\n",
      "Validation ROC-AUC Score    :  0.73472\n",
      "time :  17.401043315728504  mins\n",
      "depth :  20\n",
      "Validation Accuracy Score   :  0.73512\n",
      "Validation Precision Score  :  0.7085603608736731\n",
      "Validation Recall Score     :  0.79904\n",
      "Validation F1-Score         :  0.7510130135441053\n",
      "Validation ROC-AUC Score    :  0.73512\n",
      "time :  25.021992381413778  mins\n",
      "depth :  25\n",
      "Validation Accuracy Score   :  0.73212\n",
      "Validation Precision Score  :  0.7116356728179511\n",
      "Validation Recall Score     :  0.78088\n",
      "Validation F1-Score         :  0.7445615815578188\n",
      "Validation ROC-AUC Score    :  0.7321199999999999\n",
      "time :  33.51738666296005  mins\n",
      "depth :  30\n",
      "Validation Accuracy Score   :  0.72876\n",
      "Validation Precision Score  :  0.714949001495914\n",
      "Validation Recall Score     :  0.76088\n",
      "Validation F1-Score         :  0.7371714861541941\n",
      "Validation ROC-AUC Score    :  0.7287600000000001\n",
      "time :  42.75045440594355  mins\n"
     ]
    }
   ],
   "source": [
    "# Decision Tree Classifier\n",
    "# Parameter Tuning \n",
    "\n",
    "from sklearn.tree import DecisionTreeClassifier\n",
    "\n",
    "dt_acc_list = [] \n",
    "start_time   = time.time()\n",
    "dt_range  = [1, 5, 10, 15, 20, 25, 30]\n",
    "\n",
    "for param in dt_range:\n",
    "    print(\"depth : \", param)\n",
    "    dt_clf = DecisionTreeClassifier(max_depth=param, random_state=42)\n",
    "    dt_acc = cv_performance(dt_clf, X1_13, y1_13)\n",
    "    dt_acc_list.append(dt_acc)\n",
    "    print(\"time : \", ((time.time() - start_time)/60), \" mins\")"
   ]
  },
  {
   "cell_type": "code",
   "execution_count": 75,
   "metadata": {},
   "outputs": [
    {
     "data": {
      "text/plain": [
       "Text(0, 0.5, 'Cross-Validated Mean Accuracy')"
      ]
     },
     "execution_count": 75,
     "metadata": {},
     "output_type": "execute_result"
    },
    {
     "data": {
      "image/png": "[encoded data removed]",
      "text/plain": [
       "<Figure size 432x288 with 1 Axes>"
      ]
     },
     "metadata": {},
     "output_type": "display_data"
    }
   ],
   "source": [
    "# Plot Accuracy (Decision Tree)\n",
    "\n",
    "plt.plot(dt_range, dt_acc_list)\n",
    "plt.title('Decision Tree Classifier (Mono, Term Frequency)')\n",
    "plt.xlabel('Values of Depth for Decision Tree Classifier')\n",
    "plt.ylabel('Cross-Validated Mean Accuracy')"
   ]
  },
  {
   "cell_type": "markdown",
   "metadata": {},
   "source": [
    "# Version 1.4 - Monogram, TF-IDF\n",
    "<br>"
   ]
  },
  {
   "cell_type": "code",
   "execution_count": 76,
   "metadata": {},
   "outputs": [
    {
     "name": "stdout",
     "output_type": "stream",
     "text": [
      "(25000, 108593)\n"
     ]
    }
   ],
   "source": [
    "# Version 1.4 - TF-iDF (Monogram)\n",
    "from sklearn.feature_extraction.text import TfidfVectorizer\n",
    "\n",
    "mono_tfidf     = TfidfVectorizer()\n",
    "mono_tfidf.fit(processed_list)\n",
    "mono_tfidf_bow = mono_tfidf.transform(processed_list)# bow: bag-of-words\n",
    "df1_14     = pd.DataFrame(mono_tfidf_bow.toarray(), columns=mono_tfidf.get_feature_names())\n",
    "\n",
    "print(df1_14.shape)"
   ]
  },
  {
   "cell_type": "code",
   "execution_count": 77,
   "metadata": {},
   "outputs": [
    {
     "name": "stdout",
     "output_type": "stream",
     "text": [
      "(25000,)\n",
      "(25000, 108593)\n"
     ]
    }
   ],
   "source": [
    "y1_14 = df1[\"label\"].copy()\n",
    "X1_14 = df1_14.copy()\n",
    "\n",
    "print(y1_14.shape)\n",
    "print(X1_14.shape)"
   ]
  },
  {
   "cell_type": "markdown",
   "metadata": {},
   "source": [
    "### Logistic Regression"
   ]
  },
  {
   "cell_type": "code",
   "execution_count": 78,
   "metadata": {},
   "outputs": [
    {
     "name": "stdout",
     "output_type": "stream",
     "text": [
      "parameter :  0.01\n",
      "Validation Accuracy Score   :  0.8104\n",
      "Validation Precision Score  :  0.7806297762379544\n",
      "Validation Recall Score     :  0.86344\n",
      "Validation F1-Score         :  0.8199359346173709\n",
      "Validation ROC-AUC Score    :  0.8104\n",
      "time :  1.6710967659950255  mins\n",
      "parameter :  0.05\n",
      "Validation Accuracy Score   :  0.8336399999999999\n",
      "Validation Precision Score  :  0.8059295853253676\n",
      "Validation Recall Score     :  0.87896\n",
      "Validation F1-Score         :  0.8408298202147926\n",
      "Validation ROC-AUC Score    :  0.8336399999999999\n",
      "time :  3.5201661427815756  mins\n",
      "parameter :  0.075\n",
      "Validation Accuracy Score   :  0.842\n",
      "Validation Precision Score  :  0.816339274881065\n",
      "Validation Recall Score     :  0.88256\n",
      "Validation F1-Score         :  0.8481336479135323\n",
      "Validation ROC-AUC Score    :  0.842\n",
      "time :  5.334029126167297  mins\n",
      "parameter :  0.1\n",
      "Validation Accuracy Score   :  0.84704\n",
      "Validation Precision Score  :  0.8232206689881678\n",
      "Validation Recall Score     :  0.88392\n",
      "Validation F1-Score         :  0.8524586572575819\n",
      "Validation ROC-AUC Score    :  0.84704\n",
      "time :  7.159829175472259  mins\n",
      "parameter :  0.5\n",
      "Validation Accuracy Score   :  0.87184\n",
      "Validation Precision Score  :  0.8565101195204684\n",
      "Validation Recall Score     :  0.89336\n",
      "Validation F1-Score         :  0.8745188943319687\n",
      "Validation ROC-AUC Score    :  0.87184\n",
      "time :  8.975837516784669  mins\n",
      "parameter :  1\n",
      "Validation Accuracy Score   :  0.87636\n",
      "Validation Precision Score  :  0.8636588206480976\n",
      "Validation Recall Score     :  0.89384\n",
      "Validation F1-Score         :  0.8784587440417944\n",
      "Validation ROC-AUC Score    :  0.87636\n",
      "time :  10.803908840815227  mins\n"
     ]
    }
   ],
   "source": [
    "from sklearn.linear_model import LogisticRegression\n",
    "\n",
    "lr_acc_list = [] \n",
    "start_time   = time.time()\n",
    "C_param_range = [0.01, 0.05, 0.075, 0.1, 0.5, 1]\n",
    "\n",
    "for param in C_param_range:\n",
    "    print(\"parameter : \", param)\n",
    "    lr_clf = LogisticRegression(penalty='l2', C=param, random_state=42)\n",
    "    lr_acc = cv_performance(lr_clf, X1_14, y1_14, k=2)\n",
    "    lr_acc_list.append(lr_acc)\n",
    "    print(\"time : \", ((time.time() - start_time)/60), \" mins\")"
   ]
  },
  {
   "cell_type": "code",
   "execution_count": 79,
   "metadata": {},
   "outputs": [
    {
     "data": {
      "text/plain": [
       "Text(0, 0.5, 'Cross-Validated Accuracy')"
      ]
     },
     "execution_count": 79,
     "metadata": {},
     "output_type": "execute_result"
    },
    {
     "data": {
      "image/png": "[encoded data removed]",
      "text/plain": [
       "<Figure size 432x288 with 1 Axes>"
      ]
     },
     "metadata": {},
     "output_type": "display_data"
    }
   ],
   "source": [
    "# Plot Accuracy (Logistic Regression)\n",
    "\n",
    "plt.plot(C_param_range, lr_acc_list)\n",
    "plt.title('Logistic Regression Classifier (Mono, TF-IDF)')\n",
    "plt.xlabel('Value of C Parameters for Logistic Regression Classifier')\n",
    "plt.ylabel('Cross-Validated Accuracy')"
   ]
  },
  {
   "cell_type": "markdown",
   "metadata": {},
   "source": [
    "### Gaussian Naïve Bayes Classifier"
   ]
  },
  {
   "cell_type": "code",
   "execution_count": 80,
   "metadata": {},
   "outputs": [
    {
     "name": "stdout",
     "output_type": "stream",
     "text": [
      "parameter :  0.01\n",
      "Validation Accuracy Score   :  0.80568\n",
      "Validation Precision Score  :  0.7952591467050432\n",
      "Validation Recall Score     :  0.82352\n",
      "Validation F1-Score         :  0.8090733709060978\n",
      "Validation ROC-AUC Score    :  0.80568\n",
      "time :  3.544257966677348  mins\n",
      "parameter :  0.05\n",
      "Validation Accuracy Score   :  0.82048\n",
      "Validation Precision Score  :  0.8281173563561095\n",
      "Validation Recall Score     :  0.80904\n",
      "Validation F1-Score         :  0.8183252914753231\n",
      "Validation ROC-AUC Score    :  0.8204799999999999\n",
      "time :  6.798989260196686  mins\n",
      "parameter :  0.075\n",
      "Validation Accuracy Score   :  0.82336\n",
      "Validation Precision Score  :  0.8375570313054495\n",
      "Validation Recall Score     :  0.80248\n",
      "Validation F1-Score         :  0.8195026120050153\n",
      "Validation ROC-AUC Score    :  0.82336\n",
      "time :  9.842905155817668  mins\n",
      "parameter :  0.1\n",
      "Validation Accuracy Score   :  0.82388\n",
      "Validation Precision Score  :  0.8428455404225869\n",
      "Validation Recall Score     :  0.7963199999999999\n",
      "Validation F1-Score         :  0.8187824383169803\n",
      "Validation ROC-AUC Score    :  0.82388\n",
      "time :  12.892565353711445  mins\n",
      "parameter :  0.2\n",
      "Validation Accuracy Score   :  0.82292\n",
      "Validation Precision Score  :  0.8587348252743541\n",
      "Validation Recall Score     :  0.77304\n",
      "Validation F1-Score         :  0.8135247125623084\n",
      "Validation ROC-AUC Score    :  0.82292\n",
      "time :  15.930201474825541  mins\n",
      "parameter :  0.3\n",
      "Validation Accuracy Score   :  0.8202400000000001\n",
      "Validation Precision Score  :  0.8669926417970628\n",
      "Validation Recall Score     :  0.75656\n",
      "Validation F1-Score         :  0.8079232051675027\n",
      "Validation ROC-AUC Score    :  0.8202400000000001\n",
      "time :  18.976248943805693  mins\n",
      "parameter :  0.4\n",
      "Validation Accuracy Score   :  0.81856\n",
      "Validation Precision Score  :  0.8735446029754659\n",
      "Validation Recall Score     :  0.7450399999999999\n",
      "Validation F1-Score         :  0.8040667321929704\n",
      "Validation ROC-AUC Score    :  0.81856\n",
      "time :  22.01610605319341  mins\n",
      "parameter :  0.5\n",
      "Validation Accuracy Score   :  0.81716\n",
      "Validation Precision Score  :  0.8786824510271384\n",
      "Validation Recall Score     :  0.736\n",
      "Validation F1-Score         :  0.8009210913409199\n",
      "Validation ROC-AUC Score    :  0.81716\n",
      "time :  25.058937327067056  mins\n"
     ]
    }
   ],
   "source": [
    "from sklearn.naive_bayes import GaussianNB\n",
    "\n",
    "gnb_acc_list = [] \n",
    "start_time   = time.time()\n",
    "gparam_range  = [0.01, 0.05, 0.075, 0.1, 0.2, 0.3, 0.4, 0.5] \n",
    "\n",
    "for param in gparam_range:\n",
    "    print(\"parameter : \", param)\n",
    "    gnb_clf = GaussianNB(var_smoothing=param)\n",
    "    gnb_acc = cv_performance(gnb_clf, X1_14, y1_14, k=2)\n",
    "    gnb_acc_list.append(gnb_acc)\n",
    "    print(\"time : \", ((time.time() - start_time)/60), \" mins\")"
   ]
  },
  {
   "cell_type": "code",
   "execution_count": 81,
   "metadata": {},
   "outputs": [
    {
     "data": {
      "text/plain": [
       "Text(0, 0.5, 'Cross-Validated Accuracy')"
      ]
     },
     "execution_count": 81,
     "metadata": {},
     "output_type": "execute_result"
    },
    {
     "data": {
      "image/png": "[encoded data removed]",
      "text/plain": [
       "<Figure size 432x288 with 1 Axes>"
      ]
     },
     "metadata": {},
     "output_type": "display_data"
    }
   ],
   "source": [
    "# Plot Accuracy (Gaussian NB)\n",
    "\n",
    "plt.plot(gparam_range, gnb_acc_list)\n",
    "plt.title('Gaussian Naïve Bayes Classifier (Mono, TF-IDF)')\n",
    "plt.xlabel('Value of Parameters (var_smoothing) for Gaussian NB')\n",
    "plt.ylabel('Cross-Validated Accuracy')"
   ]
  },
  {
   "cell_type": "markdown",
   "metadata": {},
   "source": [
    "### Bernoulli Naïve Bayes Classifier"
   ]
  },
  {
   "cell_type": "code",
   "execution_count": 82,
   "metadata": {},
   "outputs": [
    {
     "name": "stdout",
     "output_type": "stream",
     "text": [
      "parameter :  0.0\n",
      "Validation Accuracy Score   :  0.7614000961536135\n",
      "Validation Precision Score  :  0.7688223108386182\n",
      "Validation Recall Score     :  0.7476804448058942\n",
      "Validation F1-Score         :  0.7580848400375236\n",
      "Validation ROC-AUC Score    :  0.7614000961536136\n",
      "time :  7.220603319009145  mins\n",
      "parameter :  0.5\n",
      "Validation Accuracy Score   :  0.839800055553885\n",
      "Validation Precision Score  :  0.8655758080002515\n",
      "Validation Recall Score     :  0.8045600807048254\n",
      "Validation F1-Score         :  0.8339370142634124\n",
      "Validation ROC-AUC Score    :  0.839800055553885\n",
      "time :  14.50316287279129  mins\n",
      "parameter :  0.75\n",
      "Validation Accuracy Score   :  0.8405200363615655\n",
      "Validation Precision Score  :  0.8671141969791006\n",
      "Validation Recall Score     :  0.8043200615002167\n",
      "Validation F1-Score         :  0.8345151920421124\n",
      "Validation ROC-AUC Score    :  0.8405200363615655\n",
      "time :  21.858243060112  mins\n",
      "parameter :  1.0\n",
      "Validation Accuracy Score   :  0.8404000747631019\n",
      "Validation Precision Score  :  0.867771514635057\n",
      "Validation Recall Score     :  0.8032001894961222\n",
      "Validation F1-Score         :  0.8342138449874547\n",
      "Validation ROC-AUC Score    :  0.8404000747631022\n",
      "time :  29.23934661547343  mins\n",
      "parameter :  2.0\n",
      "Validation Accuracy Score   :  0.8401600267561887\n",
      "Validation Precision Score  :  0.8703471255935544\n",
      "Validation Recall Score     :  0.7994399526290418\n",
      "Validation F1-Score         :  0.8333585071854174\n",
      "Validation ROC-AUC Score    :  0.8401600267561888\n",
      "time :  36.441258180141446  mins\n",
      "parameter :  3.0\n",
      "Validation Accuracy Score   :  0.8398800107513242\n",
      "Validation Precision Score  :  0.87222721994489\n",
      "Validation Recall Score     :  0.7964798245809082\n",
      "Validation F1-Score         :  0.8325914481490342\n",
      "Validation ROC-AUC Score    :  0.8398800107513242\n",
      "time :  43.990367265542346  mins\n"
     ]
    }
   ],
   "source": [
    "from sklearn.naive_bayes import BernoulliNB\n",
    "\n",
    "bnb_acc_list = [] \n",
    "start_time   = time.time()\n",
    "param_range  = [0.0, 0.5, 0.75, 1.0, 2.0, 3.0] \n",
    "\n",
    "for param in param_range:\n",
    "    print(\"parameter : \", param)\n",
    "    bnb_clf = BernoulliNB(alpha=param)\n",
    "    bnb_acc = cv_performance(bnb_clf, X1_14, y1_14, k=3)\n",
    "    bnb_acc_list.append(bnb_acc)\n",
    "    print(\"time : \", ((time.time() - start_time)/60), \" mins\")"
   ]
  },
  {
   "cell_type": "code",
   "execution_count": 83,
   "metadata": {},
   "outputs": [
    {
     "data": {
      "text/plain": [
       "Text(0, 0.5, 'Cross-Validated Accuracy')"
      ]
     },
     "execution_count": 83,
     "metadata": {},
     "output_type": "execute_result"
    },
    {
     "data": {
      "image/png": "[encoded data removed]",
      "text/plain": [
       "<Figure size 432x288 with 1 Axes>"
      ]
     },
     "metadata": {},
     "output_type": "display_data"
    }
   ],
   "source": [
    "# Plot Accuracy (Bernoulli NB)\n",
    "\n",
    "plt.plot(param_range, bnb_acc_list)\n",
    "plt.title('Bernoulli Naïve Bayes Classifier (Mono, TF-IDF)')\n",
    "plt.xlabel('Value of Parameters (alpha) for Bernoulli NB')\n",
    "plt.ylabel('Cross-Validated Accuracy')"
   ]
  },
  {
   "cell_type": "markdown",
   "metadata": {},
   "source": [
    "### Multinomial Naïve Bayes Classifier"
   ]
  },
  {
   "cell_type": "code",
   "execution_count": 84,
   "metadata": {},
   "outputs": [
    {
     "name": "stdout",
     "output_type": "stream",
     "text": [
      "parameter :  0.0\n",
      "Validation Accuracy Score   :  0.7660798369927814\n",
      "Validation Precision Score  :  0.7602098649055655\n",
      "Validation Recall Score     :  0.7774402147684162\n",
      "Validation F1-Score         :  0.7686833680529878\n",
      "Validation ROC-AUC Score    :  0.7660798369927813\n",
      "time :  0.9807265957196554  mins\n",
      "parameter :  0.25\n",
      "Validation Accuracy Score   :  0.8549198637320728\n",
      "Validation Precision Score  :  0.8576552870169412\n",
      "Validation Recall Score     :  0.8511193708439954\n",
      "Validation F1-Score         :  0.8543582864545008\n",
      "Validation ROC-AUC Score    :  0.8549198637320727\n",
      "time :  1.9683523774147034  mins\n",
      "parameter :  0.5\n",
      "Validation Accuracy Score   :  0.8566797229433359\n",
      "Validation Precision Score  :  0.8612919018987949\n",
      "Validation Recall Score     :  0.8503191468158304\n",
      "Validation F1-Score         :  0.855745084846916\n",
      "Validation ROC-AUC Score    :  0.8566797229433359\n",
      "time :  2.985334074497223  mins\n",
      "parameter :  0.75\n",
      "Validation Accuracy Score   :  0.857559623746663\n",
      "Validation Precision Score  :  0.8643074631546934\n",
      "Validation Recall Score     :  0.8483189227723039\n",
      "Validation F1-Score         :  0.8562036490218213\n",
      "Validation ROC-AUC Score    :  0.8575596237466628\n",
      "time :  3.967590304215749  mins\n",
      "parameter :  1.0\n",
      "Validation Accuracy Score   :  0.8569195117295081\n",
      "Validation Precision Score  :  0.8654405546675629\n",
      "Validation Recall Score     :  0.8452787051159767\n",
      "Validation F1-Score         :  0.8551939604441813\n",
      "Validation ROC-AUC Score    :  0.8569195117295081\n",
      "time :  4.906948506832123  mins\n",
      "parameter :  1.5\n",
      "Validation Accuracy Score   :  0.8571995949397501\n",
      "Validation Precision Score  :  0.8680899952434998\n",
      "Validation Recall Score     :  0.8424786026719399\n",
      "Validation F1-Score         :  0.8550221014620732\n",
      "Validation ROC-AUC Score    :  0.8571995949397501\n",
      "time :  5.842877209186554  mins\n"
     ]
    }
   ],
   "source": [
    "from sklearn.naive_bayes import MultinomialNB\n",
    "\n",
    "mnb_acc_list = [] \n",
    "start_time   = time.time()\n",
    "param_range  = [0.0, 0.25, 0.5, 0.75, 1.0, 1.5]  \n",
    "\n",
    "for param in param_range:\n",
    "    print(\"parameter : \", param)\n",
    "    mnb_clf = MultinomialNB(alpha=param)\n",
    "    mnb_acc = cv_performance(mnb_clf, X1_14, y1_14, k=3)\n",
    "    mnb_acc_list.append(mnb_acc)\n",
    "    print(\"time : \", ((time.time() - start_time)/60), \" mins\")"
   ]
  },
  {
   "cell_type": "code",
   "execution_count": 85,
   "metadata": {},
   "outputs": [
    {
     "data": {
      "text/plain": [
       "Text(0, 0.5, 'Cross-Validated Mean Accuracy')"
      ]
     },
     "execution_count": 85,
     "metadata": {},
     "output_type": "execute_result"
    },
    {
     "data": {
      "image/png": "[encoded data removed]",
      "text/plain": [
       "<Figure size 432x288 with 1 Axes>"
      ]
     },
     "metadata": {},
     "output_type": "display_data"
    }
   ],
   "source": [
    "# Plot Accuracy (Multinomial NB)\n",
    "\n",
    "plt.plot(param_range, mnb_acc_list)\n",
    "plt.title('Multinomial Naïve Bayes Classifier (Mono, TF-IDF)')\n",
    "plt.xlabel('Value of Parameters (alpha) for Multinomial NB')\n",
    "plt.ylabel('Cross-Validated Mean Accuracy')"
   ]
  },
  {
   "cell_type": "markdown",
   "metadata": {},
   "source": [
    "### Decision Tree Classifier"
   ]
  },
  {
   "cell_type": "code",
   "execution_count": 86,
   "metadata": {},
   "outputs": [
    {
     "name": "stdout",
     "output_type": "stream",
     "text": [
      "depth :  1\n",
      "Validation Accuracy Score   :  0.64924\n",
      "Validation Precision Score  :  0.6009966060984906\n",
      "Validation Recall Score     :  0.88856\n",
      "Validation F1-Score         :  0.7169806350108721\n",
      "Validation ROC-AUC Score    :  0.64924\n",
      "time :  2.2234689553578693  mins\n",
      "depth :  5\n",
      "Validation Accuracy Score   :  0.70756\n",
      "Validation Precision Score  :  0.6570261616938673\n",
      "Validation Recall Score     :  0.8686399999999999\n",
      "Validation F1-Score         :  0.7481036147920461\n",
      "Validation ROC-AUC Score    :  0.7075600000000001\n",
      "time :  5.949194236596425  mins\n",
      "depth :  10\n",
      "Validation Accuracy Score   :  0.7314400000000001\n",
      "Validation Precision Score  :  0.6913724427700653\n",
      "Validation Recall Score     :  0.8362400000000001\n",
      "Validation F1-Score         :  0.7569154009514284\n",
      "Validation ROC-AUC Score    :  0.7314400000000001\n",
      "time :  11.009175582726796  mins\n",
      "depth :  15\n",
      "Validation Accuracy Score   :  0.73068\n",
      "Validation Precision Score  :  0.6943805665209171\n",
      "Validation Recall Score     :  0.82408\n",
      "Validation F1-Score         :  0.7536764740593263\n",
      "Validation ROC-AUC Score    :  0.73068\n",
      "time :  17.14184422492981  mins\n",
      "depth :  20\n",
      "Validation Accuracy Score   :  0.73184\n",
      "Validation Precision Score  :  0.7022772691925445\n",
      "Validation Recall Score     :  0.80504\n",
      "Validation F1-Score         :  0.7501304042022081\n",
      "Validation ROC-AUC Score    :  0.7318399999999999\n",
      "time :  24.14242442846298  mins\n",
      "depth :  25\n",
      "Validation Accuracy Score   :  0.7292400000000001\n",
      "Validation Precision Score  :  0.7042107612093667\n",
      "Validation Recall Score     :  0.79072\n",
      "Validation F1-Score         :  0.7449386330433965\n",
      "Validation ROC-AUC Score    :  0.72924\n",
      "time :  31.852948304017385  mins\n",
      "depth :  30\n",
      "Validation Accuracy Score   :  0.72444\n",
      "Validation Precision Score  :  0.7057370456149603\n",
      "Validation Recall Score     :  0.77\n",
      "Validation F1-Score         :  0.7364041672204025\n",
      "Validation ROC-AUC Score    :  0.72444\n",
      "time :  40.21634825865428  mins\n"
     ]
    }
   ],
   "source": [
    "# Decision Tree Classifier\n",
    "# Parameter Tuning \n",
    "\n",
    "from sklearn.tree import DecisionTreeClassifier\n",
    "\n",
    "dt_acc_list = [] \n",
    "start_time   = time.time()\n",
    "dt_range  = [1, 5, 10, 15, 20, 25, 30]\n",
    "\n",
    "for param in dt_range:\n",
    "    print(\"depth : \", param)\n",
    "    dt_clf = DecisionTreeClassifier(max_depth=param, random_state=42)\n",
    "    dt_acc = cv_performance(dt_clf, X1_14, y1_14)\n",
    "    dt_acc_list.append(dt_acc)\n",
    "    print(\"time : \", ((time.time() - start_time)/60), \" mins\")"
   ]
  },
  {
   "cell_type": "code",
   "execution_count": 87,
   "metadata": {},
   "outputs": [
    {
     "data": {
      "text/plain": [
       "Text(0, 0.5, 'Cross-Validated Mean Accuracy')"
      ]
     },
     "execution_count": 87,
     "metadata": {},
     "output_type": "execute_result"
    },
    {
     "data": {
      "image/png": "[encoded data removed]",
      "text/plain": [
       "<Figure size 432x288 with 1 Axes>"
      ]
     },
     "metadata": {},
     "output_type": "display_data"
    }
   ],
   "source": [
    "# Plot Accuracy (Decision Tree)\n",
    "\n",
    "plt.plot(dt_range, dt_acc_list)\n",
    "plt.title('Decision Tree Classifier (Mono, TF-IDF)')\n",
    "plt.xlabel('Values of Depth for Decision Tree Classifier')\n",
    "plt.ylabel('Cross-Validated Mean Accuracy')"
   ]
  },
  {
   "cell_type": "markdown",
   "metadata": {},
   "source": [
    "### XGBoost Classifier"
   ]
  },
  {
   "cell_type": "code",
   "execution_count": 90,
   "metadata": {},
   "outputs": [
    {
     "name": "stdout",
     "output_type": "stream",
     "text": [
      "Validation Accuracy Score   :  0.8004\n",
      "Validation Precision Score  :  0.7688071133907869\n",
      "Validation Recall Score     :  0.8592\n",
      "Validation F1-Score         :  0.811492257484815\n",
      "Validation ROC-AUC Score    :  0.8003999999999999\n",
      "time :  74.04849356015524  mins\n"
     ]
    }
   ],
   "source": [
    "from xgboost import XGBClassifier\n",
    "\n",
    "start_time    = time.time()\n",
    "xgb_clf = XGBClassifier()\n",
    "xgb_acc = cv_performance(xgb_clf, X1_14, y1_14, k=2)\n",
    "print(\"time : \", ((time.time() - start_time)/60), \" mins\")"
   ]
  },
  {
   "cell_type": "code",
   "execution_count": 93,
   "metadata": {},
   "outputs": [],
   "source": [
    "# Done"
   ]
  }
 ],
 "metadata": {
  "kernelspec": {
   "display_name": "Python 3",
   "language": "python",
   "name": "python3"
  },
  "language_info": {
   "codemirror_mode": {
    "name": "ipython",
    "version": 3
   },
   "file_extension": ".py",
   "mimetype": "text/x-python",
   "name": "python",
   "nbconvert_exporter": "python",
   "pygments_lexer": "ipython3",
   "version": "3.7.2"
  }
 },
 "nbformat": 4,
 "nbformat_minor": 2
}
