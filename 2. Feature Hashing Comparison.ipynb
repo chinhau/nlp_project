{
 "cells": [
  {
   "cell_type": "code",
   "execution_count": 1,
   "metadata": {},
   "outputs": [
    {
     "name": "stdout",
     "output_type": "stream",
     "text": [
      "[nltk_data] Downloading package punkt to /home/ec2-user/nltk_data...\n",
      "[nltk_data]   Unzipping tokenizers/punkt.zip.\n",
      "[nltk_data] Downloading package wordnet to /home/ec2-user/nltk_data...\n",
      "[nltk_data]   Unzipping corpora/wordnet.zip.\n",
      "[nltk_data] Downloading package stopwords to\n",
      "[nltk_data]     /home/ec2-user/nltk_data...\n",
      "[nltk_data]   Unzipping corpora/stopwords.zip.\n",
      "[nltk_data] Downloading package averaged_perceptron_tagger to\n",
      "[nltk_data]     /home/ec2-user/nltk_data...\n",
      "[nltk_data]   Unzipping taggers/averaged_perceptron_tagger.zip.\n"
     ]
    },
    {
     "data": {
      "text/plain": [
       "True"
      ]
     },
     "execution_count": 1,
     "metadata": {},
     "output_type": "execute_result"
    }
   ],
   "source": [
    "import nltk\n",
    "nltk.download('punkt')\n",
    "nltk.download('wordnet')\n",
    "nltk.download('stopwords')\n",
    "nltk.download('averaged_perceptron_tagger')"
   ]
  },
  {
   "cell_type": "markdown",
   "metadata": {},
   "source": [
    "### Dataset Citation\n",
    "\n",
    "<b> Link: https://ai.stanford.edu/~amaas/data/sentiment/ </b>\n",
    "\n",
    "@InProceedings{maas-EtAl:2011:ACL-HLT2011,\n",
    "  author    = {Maas, Andrew L.  and  Daly, Raymond E.  and  Pham, Peter T.  and  Huang, Dan  and  Ng, Andrew Y.  and  Potts, Christopher},\n",
    "  title     = {Learning Word Vectors for Sentiment Analysis},\n",
    "  booktitle = {Proceedings of the 49th Annual Meeting of the Association for Computational Linguistics: Human Language Technologies},\n",
    "  month     = {June},\n",
    "  year      = {2011},\n",
    "  address   = {Portland, Oregon, USA},\n",
    "  publisher = {Association for Computational Linguistics},\n",
    "  pages     = {142--150},\n",
    "  url       = {http://www.aclweb.org/anthology/P11-1015}\n",
    "}\n",
    "<br> <br>"
   ]
  },
  {
   "cell_type": "markdown",
   "metadata": {},
   "source": [
    "### Import Libraries"
   ]
  },
  {
   "cell_type": "code",
   "execution_count": 2,
   "metadata": {},
   "outputs": [],
   "source": [
    "# import libraries\n",
    "\n",
    "import re\n",
    "import glob\n",
    "import time\n",
    "import pickle\n",
    "import string\n",
    "import warnings\n",
    "import itertools\n",
    "import collections\n",
    "import numpy as np\n",
    "import pandas as pd\n",
    "import seaborn as sns\n",
    "import multiprocessing\n",
    "from sklearn import utils\n",
    "from nltk.corpus import wordnet\n",
    "import matplotlib.pyplot as plt\n",
    "from multiprocessing import Pool\n",
    "from sklearn.utils import shuffle\n",
    "import sklearn.metrics as metrics\n",
    "from nltk.corpus import stopwords\n",
    "from nltk.stem import PorterStemmer\n",
    "from nltk.stem import WordNetLemmatizer \n",
    "from sklearn.feature_extraction.text import CountVectorizer\n",
    "from sklearn.model_selection import train_test_split, StratifiedShuffleSplit, StratifiedKFold\n",
    "from sklearn.metrics import accuracy_score, precision_score, recall_score, f1_score, roc_auc_score, confusion_matrix\n",
    "\n",
    "warnings.filterwarnings('ignore')"
   ]
  },
  {
   "cell_type": "markdown",
   "metadata": {},
   "source": [
    "### Import Training Datasets"
   ]
  },
  {
   "cell_type": "code",
   "execution_count": 3,
   "metadata": {},
   "outputs": [],
   "source": [
    "# define function to transform txt files to dataframes\n",
    "\n",
    "def process(file_list):\n",
    "    \n",
    "    review_list = []\n",
    "    \n",
    "    for file in file_list:\n",
    "        temp = open(file, 'r')\n",
    "        review = temp.read()\n",
    "        temp.close()\n",
    "        review_list.append(review)\n",
    "    \n",
    "    return review_list"
   ]
  },
  {
   "cell_type": "code",
   "execution_count": 4,
   "metadata": {},
   "outputs": [
    {
     "name": "stdout",
     "output_type": "stream",
     "text": [
      "total positive (training) reviews:  12500\n",
      "total negative (training) reviews:  12500\n"
     ]
    }
   ],
   "source": [
    "# Training Dataset\n",
    "# import positive dataset and negative dataset\n",
    "# Courtesy: https://stackoverflow.com/questions/3207219/how-do-i-list-all-files-of-a-directory\n",
    "\n",
    "pfile_list = glob.glob(\"train/pos/*.txt\")\n",
    "nfile_list = glob.glob(\"train/neg/*.txt\")\n",
    "\n",
    "print(\"total positive (training) reviews: \", len(pfile_list))\n",
    "print(\"total negative (training) reviews: \", len(nfile_list))\n",
    "\n",
    "\n",
    "pdf = pd.DataFrame(process(pfile_list), columns=['reviews'])\n",
    "pdf['label'] = 1\n",
    "\n",
    "ndf = pd.DataFrame(process(nfile_list), columns=['reviews'])\n",
    "ndf['label'] = 0"
   ]
  },
  {
   "cell_type": "code",
   "execution_count": 5,
   "metadata": {},
   "outputs": [
    {
     "name": "stdout",
     "output_type": "stream",
     "text": [
      "1    12500\n",
      "0    12500\n",
      "Name: label, dtype: int64\n",
      "\n",
      "\n",
      "<class 'pandas.core.frame.DataFrame'>\n",
      "Int64Index: 25000 entries, 0 to 12499\n",
      "Data columns (total 2 columns):\n",
      "reviews    25000 non-null object\n",
      "label      25000 non-null int64\n",
      "dtypes: int64(1), object(1)\n",
      "memory usage: 585.9+ KB\n",
      "None\n"
     ]
    }
   ],
   "source": [
    "# Exploratory Data Analysis\n",
    "\n",
    "frame = [pdf, ndf]\n",
    "df1 = pd.concat(frame)\n",
    "\n",
    "print(df1['label'].value_counts())\n",
    "print('\\n')\n",
    "print(df1.info())"
   ]
  },
  {
   "cell_type": "code",
   "execution_count": 6,
   "metadata": {},
   "outputs": [
    {
     "name": "stdout",
     "output_type": "stream",
     "text": [
      "total positive (training) reviews:  12500\n",
      "total negative (training) reviews:  12500\n"
     ]
    }
   ],
   "source": [
    "# Testing Dataset\n",
    "# import positive dataset and negative dataset\n",
    "# Courtesy: https://stackoverflow.com/questions/3207219/how-do-i-list-all-files-of-a-directory\n",
    "\n",
    "ptest_list = glob.glob(\"test/pos/*.txt\")\n",
    "ntest_list = glob.glob(\"test/neg/*.txt\")\n",
    "\n",
    "print(\"total positive (training) reviews: \", len(ptest_list))\n",
    "print(\"total negative (training) reviews: \", len(ntest_list))\n",
    "\n",
    "p_test = pd.DataFrame(process(ptest_list), columns=['reviews'])\n",
    "p_test['label'] = 1\n",
    "\n",
    "n_test = pd.DataFrame(process(ntest_list), columns=['reviews'])\n",
    "n_test['label'] = 0"
   ]
  },
  {
   "cell_type": "code",
   "execution_count": 7,
   "metadata": {},
   "outputs": [
    {
     "name": "stdout",
     "output_type": "stream",
     "text": [
      "1    12500\n",
      "0    12500\n",
      "Name: label, dtype: int64\n",
      "\n",
      "\n",
      "<class 'pandas.core.frame.DataFrame'>\n",
      "Int64Index: 25000 entries, 0 to 12499\n",
      "Data columns (total 2 columns):\n",
      "reviews    25000 non-null object\n",
      "label      25000 non-null int64\n",
      "dtypes: int64(1), object(1)\n",
      "memory usage: 585.9+ KB\n",
      "None\n"
     ]
    }
   ],
   "source": [
    "# Exploratory Data Analysis\n",
    "\n",
    "frame = [p_test, n_test]\n",
    "df_test = pd.concat(frame)\n",
    "print(df_test['label'].value_counts())\n",
    "print('\\n')\n",
    "print(df_test.info())"
   ]
  },
  {
   "cell_type": "markdown",
   "metadata": {},
   "source": [
    "### Text Pre-Processing"
   ]
  },
  {
   "cell_type": "code",
   "execution_count": 8,
   "metadata": {},
   "outputs": [],
   "source": [
    "# Pre-Requisite 1: Stopwords\n",
    "\n",
    "# lengthy way of removing single character from the text\n",
    "stopwords_dict = stopwords.words('english')\n",
    "char_stopwords = ['a','b', 'c', 'd', 'e', 'f', 'g', 'h', 'i', 'j', 'k', 'l', 'm', 'n', 'o', \n",
    "                 'p', 'q', 'r', 's', 't', 'u', 'v', 'w', 'x', 'y', 'z']\n",
    "stopwords_dict.extend(char_stopwords)\n",
    "\n",
    "# Pre-Requisite 2: Lemmetization\n",
    "# Courtesy of Gaurav Gupta : https://medium.com/@gaurav5430/using-nltk-for-lemmatizing-sentences-c1bfff963258\n",
    "\n",
    "lemmatizer = WordNetLemmatizer()\n",
    "\n",
    "def nltk_tag_to_wordnet_tag(nltk_tag):\n",
    "    if nltk_tag.startswith('J'):\n",
    "        return wordnet.ADJ\n",
    "    elif nltk_tag.startswith('V'):\n",
    "        return wordnet.VERB\n",
    "    elif nltk_tag.startswith('N'):\n",
    "        return wordnet.NOUN\n",
    "    elif nltk_tag.startswith('R'):\n",
    "        return wordnet.ADV\n",
    "    else:          \n",
    "        return None\n",
    "\n",
    "\n",
    "def lemmatize_sentence(sentence):\n",
    "    #tokenize the sentence and find the POS tag for each token\n",
    "    nltk_tagged = nltk.pos_tag(nltk.word_tokenize(sentence))  \n",
    "    #tuple of (token, wordnet_tag)\n",
    "    wordnet_tagged = map(lambda x: (x[0], nltk_tag_to_wordnet_tag(x[1])), nltk_tagged)\n",
    "    lemmatized_sentence = []\n",
    "    for word, tag in wordnet_tagged:\n",
    "        if tag is None:\n",
    "            #if there is no available tag, append the token as is\n",
    "            lemmatized_sentence.append(word)\n",
    "        else:        \n",
    "            #else use the tag to lemmatize the token\n",
    "            lemmatized_sentence.append(lemmatizer.lemmatize(word, tag))\n",
    "    return \" \".join(lemmatized_sentence)"
   ]
  },
  {
   "cell_type": "code",
   "execution_count": 9,
   "metadata": {},
   "outputs": [
    {
     "name": "stdout",
     "output_type": "stream",
     "text": [
      "CPU available:  72\n"
     ]
    }
   ],
   "source": [
    "# Text Pre-Processing Function (Stemming)\n",
    "# Decision 01 - Remove numerical value, simply text\n",
    "\n",
    "# MultiProcessing\n",
    "print(\"CPU available: \", multiprocessing.cpu_count())\n",
    "\n",
    "st = PorterStemmer()\n",
    "\n",
    "def preprocess_func(text):\n",
    "    text = text.lower()\n",
    "    text = re.compile(r'<[^>]+>').sub('', text) # remove html tags\n",
    "    text = re.compile(\"[^a-zA-Z ]\").sub('', text) # remove special character\n",
    "    text = re.sub(r'\\s+', ' ', text) # remove extra space           \n",
    "    text = re.compile(r'\\b(' + r'|'.join(stopwords_dict) + r')\\b\\s*').sub('', text) # remove stopwords\n",
    "    text = lemmatize_sentence(text)\n",
    "    return \" \".join([st.stem(i) for i in text.split()])\n",
    "\n",
    "\n",
    "# Function for MultiProcessing\n",
    "def func(temp):\n",
    "    temp = preprocess_func(temp)\n",
    "    return temp"
   ]
  },
  {
   "cell_type": "code",
   "execution_count": 10,
   "metadata": {},
   "outputs": [],
   "source": [
    "def cv_performance(clf, X, y, k=5):\n",
    "    \n",
    "    accuracy  = []\n",
    "    precision = []\n",
    "    recall    = []\n",
    "    f1_list   = []\n",
    "    rocauc    = []\n",
    "    \n",
    "    skf = StratifiedKFold(n_splits=k, random_state=None)\n",
    "    \n",
    "    for train_index, val_index in skf.split(X, y):\n",
    "        X_train, X_val = X.iloc[train_index], X.iloc[val_index]\n",
    "        y_train, y_val = y.iloc[train_index], y.iloc[val_index]\n",
    "        clf.fit(X_train, y_train)\n",
    "        y_pred = clf.predict(X_val)\n",
    "        \n",
    "        accuracy.append(accuracy_score(y_val, y_pred))\n",
    "        precision.append(precision_score(y_val, y_pred))\n",
    "        recall.append(recall_score(y_val, y_pred))\n",
    "        f1_list.append(f1_score(y_val, y_pred))\n",
    "        rocauc.append(roc_auc_score(y_val, y_pred))\n",
    "    \n",
    "    print(\"Validation Accuracy Score   : \", np.array(accuracy).mean())\n",
    "    print(\"Validation Precision Score  : \", np.array(precision).mean())\n",
    "    print(\"Validation Recall Score     : \", np.array(recall).mean())\n",
    "    print(\"Validation F1-Score         : \", np.array(f1_list).mean())\n",
    "    print(\"Validation ROC-AUC Score    : \", np.array(rocauc).mean())\n",
    "\n",
    "    return np.array(accuracy).mean()"
   ]
  },
  {
   "cell_type": "code",
   "execution_count": 11,
   "metadata": {},
   "outputs": [],
   "source": [
    "# Test Accuracy Function\n",
    "\n",
    "def test_accuracy(clf, X_train, y_train, X_test, y_test):\n",
    "\n",
    "    clf.fit(X_train, y_train)\n",
    "    y_pred = clf.predict(X_test)\n",
    "    \n",
    "    print(\"y Testing    : \")\n",
    "    print(collections.Counter(y_test))\n",
    "    \n",
    "    print(\"y Prediction : \")\n",
    "    print(collections.Counter(y_pred))\n",
    "    \n",
    "    print(\"Testing Accuracy Score   : \", accuracy_score(y_test, y_pred))   \n",
    "    print(\"Testing ROC-AUC Score    : \", roc_auc_score(y_test, y_pred))\n",
    "    print(\"Confusion Matrix \")\n",
    "    print(confusion_matrix(y_test, y_pred))\n",
    "    \n",
    "    return y_pred"
   ]
  },
  {
   "cell_type": "markdown",
   "metadata": {},
   "source": [
    "## Text Pre-Processing"
   ]
  },
  {
   "cell_type": "code",
   "execution_count": 12,
   "metadata": {},
   "outputs": [
    {
     "name": "stdout",
     "output_type": "stream",
     "text": [
      "25000\n",
      "time :  0.15209068854649863  mins\n",
      "Text Pre-Processing Done.\n"
     ]
    }
   ],
   "source": [
    "start_time = time.time()\n",
    "review_list = df1['reviews'].values.tolist()\n",
    "print(len(review_list))\n",
    "\n",
    "p = Pool(72)\n",
    "processed_list = p.map(func, review_list)\n",
    "print(\"time : \", ((time.time() - start_time)/60), \" mins\")\n",
    "print('Text Pre-Processing Done.')"
   ]
  },
  {
   "cell_type": "markdown",
   "metadata": {},
   "source": [
    "# Version 2.1 - Feature Hashing, Monogram"
   ]
  },
  {
   "cell_type": "code",
   "execution_count": 22,
   "metadata": {
    "scrolled": true
   },
   "outputs": [
    {
     "name": "stdout",
     "output_type": "stream",
     "text": [
      "(25000, 500)\n",
      "(25000,)\n",
      "(25000, 500)\n",
      "parameter :  0.5\n",
      "Validation Accuracy Score   :  0.78096\n",
      "Validation Precision Score  :  0.7756659797695731\n",
      "Validation Recall Score     :  0.7905599999999999\n",
      "Validation F1-Score         :  0.7830340633579163\n",
      "Validation ROC-AUC Score    :  0.78096\n",
      "time :  0.012374536196390788  mins\n",
      "parameter :  0.6\n",
      "Validation Accuracy Score   :  0.7812399999999999\n",
      "Validation Precision Score  :  0.7764826464275332\n",
      "Validation Recall Score     :  0.78984\n",
      "Validation F1-Score         :  0.7830992525857512\n",
      "Validation ROC-AUC Score    :  0.7812399999999999\n",
      "time :  0.024928136666615804  mins\n",
      "parameter :  0.7\n",
      "Validation Accuracy Score   :  0.78152\n",
      "Validation Precision Score  :  0.7769095832375578\n",
      "Validation Recall Score     :  0.7898400000000001\n",
      "Validation F1-Score         :  0.7833158273157579\n",
      "Validation ROC-AUC Score    :  0.78152\n",
      "time :  0.0388973871866862  mins\n",
      "parameter :  0.8\n",
      "Validation Accuracy Score   :  0.78144\n",
      "Validation Precision Score  :  0.7765283627886344\n",
      "Validation Recall Score     :  0.79032\n",
      "Validation F1-Score         :  0.783357211046994\n",
      "Validation ROC-AUC Score    :  0.78144\n",
      "time :  0.05232953627904256  mins\n",
      "parameter :  0.9\n",
      "Validation Accuracy Score   :  0.7816000000000001\n",
      "Validation Precision Score  :  0.7767277461126676\n",
      "Validation Recall Score     :  0.7904\n",
      "Validation F1-Score         :  0.7834979565287903\n",
      "Validation ROC-AUC Score    :  0.7816000000000001\n",
      "time :  0.06468363602956136  mins\n",
      "parameter :  1.0\n",
      "Validation Accuracy Score   :  0.7812399999999999\n",
      "Validation Precision Score  :  0.7766574930206713\n",
      "Validation Recall Score     :  0.78952\n",
      "Validation F1-Score         :  0.7830294683786045\n",
      "Validation ROC-AUC Score    :  0.7812399999999999\n",
      "time :  0.07634434700012208  mins\n",
      "parameter :  1.1\n",
      "Validation Accuracy Score   :  0.78112\n",
      "Validation Precision Score  :  0.7763020534502475\n",
      "Validation Recall Score     :  0.7898400000000001\n",
      "Validation F1-Score         :  0.783005152172502\n",
      "Validation ROC-AUC Score    :  0.78112\n",
      "time :  0.08998511632283529  mins\n",
      "parameter :  1.2\n",
      "Validation Accuracy Score   :  0.7807200000000001\n",
      "Validation Precision Score  :  0.7763033513521396\n",
      "Validation Recall Score     :  0.7887200000000001\n",
      "Validation F1-Score         :  0.7824534502168649\n",
      "Validation ROC-AUC Score    :  0.7807200000000001\n",
      "time :  0.10485881964365641  mins\n",
      "parameter :  1.3\n",
      "Validation Accuracy Score   :  0.7807200000000001\n",
      "Validation Precision Score  :  0.7763460082739371\n",
      "Validation Recall Score     :  0.78864\n",
      "Validation F1-Score         :  0.7824348891875992\n",
      "Validation ROC-AUC Score    :  0.7807200000000001\n",
      "time :  0.11843298276265463  mins\n",
      "parameter :  1.4\n",
      "Validation Accuracy Score   :  0.7809200000000001\n",
      "Validation Precision Score  :  0.7765661347316675\n",
      "Validation Recall Score     :  0.7888\n",
      "Validation F1-Score         :  0.782624764963517\n",
      "Validation ROC-AUC Score    :  0.7809200000000001\n",
      "time :  0.13410905202229817  mins\n",
      "parameter :  1.5\n",
      "Validation Accuracy Score   :  0.7811600000000001\n",
      "Validation Precision Score  :  0.776845874132817\n",
      "Validation Recall Score     :  0.78896\n",
      "Validation F1-Score         :  0.7828451161742905\n",
      "Validation ROC-AUC Score    :  0.78116\n",
      "time :  0.1488111972808838  mins\n"
     ]
    }
   ],
   "source": [
    "# Try : 500, 5000, 15000, 25000 \n",
    "# Version 2.1 - Feature Hashing (Monogram)\n",
    "# Logistic Regression \n",
    "\n",
    "from sklearn.feature_extraction.text import HashingVectorizer\n",
    "\n",
    "# Version 2.1A - Monogram, Feature Hashing - 500\n",
    "\n",
    "mono_500     = HashingVectorizer(n_features=500)\n",
    "mono_500_bow = mono_500.fit_transform(np.array(processed_list)) # bow: bag-of-words\n",
    "df211          = pd.DataFrame(mono_500_bow.toarray(), columns=range(1,501))\n",
    "\n",
    "print(df211.shape)\n",
    "\n",
    "# Prepare Data for Training | Validation Purpose\n",
    "\n",
    "y211 = df1[\"label\"].copy()\n",
    "X211 = df211.copy()\n",
    "\n",
    "print(y211.shape)\n",
    "print(X211.shape)\n",
    "\n",
    "# Logistic Regression\n",
    "\n",
    "from sklearn.linear_model import LogisticRegression\n",
    "    \n",
    "lr_acc_list = [] \n",
    "start_time   = time.time()\n",
    "C_param_range = [0.5, 0.6, 0.7, 0.8, 0.9, 1.0, 1.1, 1.2, 1.3, 1.4, 1.5]\n",
    "\n",
    "for param in C_param_range:\n",
    "    print(\"parameter : \", param)\n",
    "    lr_clf = LogisticRegression(penalty='l2', C=param, random_state=42)\n",
    "    lr_acc = cv_performance(lr_clf, X211, y211, k=2)\n",
    "    lr_acc_list.append(lr_acc)\n",
    "    print(\"time : \", ((time.time() - start_time)/60), \" mins\")"
   ]
  },
  {
   "cell_type": "code",
   "execution_count": 23,
   "metadata": {},
   "outputs": [
    {
     "data": {
      "text/plain": [
       "Text(0, 0.5, 'Cross-Validated Accuracy')"
      ]
     },
     "execution_count": 23,
     "metadata": {},
     "output_type": "execute_result"
    },
    {
     "data": {
      "image/png": "[encoded data removed]",
      "text/plain": [
       "<Figure size 432x288 with 1 Axes>"
      ]
     },
     "metadata": {
      "needs_background": "light"
     },
     "output_type": "display_data"
    }
   ],
   "source": [
    "# Plot Accuracy (Logistic Regression)\n",
    "\n",
    "plt.plot(C_param_range, lr_acc_list)\n",
    "plt.title('Logistic Regression Classifier (features no. = 500)')\n",
    "plt.xlabel('Value of C Parameters for Logistic Regression Classifier')\n",
    "plt.ylabel('Cross-Validated Accuracy')"
   ]
  },
  {
   "cell_type": "code",
   "execution_count": 27,
   "metadata": {
    "scrolled": true
   },
   "outputs": [
    {
     "name": "stdout",
     "output_type": "stream",
     "text": [
      "(25000, 5000)\n",
      "(25000,)\n",
      "(25000, 5000)\n",
      "parameter :  3.1\n",
      "Validation Accuracy Score   :  0.85224\n",
      "Validation Precision Score  :  0.8433337692178364\n",
      "Validation Recall Score     :  0.8652\n",
      "Validation F1-Score         :  0.8541169065891119\n",
      "Validation ROC-AUC Score    :  0.8522399999999999\n",
      "time :  0.159234885374705  mins\n",
      "parameter :  3.2\n",
      "Validation Accuracy Score   :  0.85232\n",
      "Validation Precision Score  :  0.8432490109607735\n",
      "Validation Recall Score     :  0.8655200000000001\n",
      "Validation F1-Score         :  0.8542293274795782\n",
      "Validation ROC-AUC Score    :  0.85232\n",
      "time :  0.2914297024408976  mins\n",
      "parameter :  3.3\n",
      "Validation Accuracy Score   :  0.85224\n",
      "Validation Precision Score  :  0.8431183609881089\n",
      "Validation Recall Score     :  0.8655200000000001\n",
      "Validation F1-Score         :  0.8541603786915044\n",
      "Validation ROC-AUC Score    :  0.8522400000000001\n",
      "time :  0.42262210448582965  mins\n",
      "parameter :  3.4\n",
      "Validation Accuracy Score   :  0.85244\n",
      "Validation Precision Score  :  0.8436629626309947\n",
      "Validation Recall Score     :  0.8652\n",
      "Validation F1-Score         :  0.8542835372599531\n",
      "Validation ROC-AUC Score    :  0.8524400000000001\n",
      "time :  0.5439372380574544  mins\n",
      "parameter :  3.5\n",
      "Validation Accuracy Score   :  0.85236\n",
      "Validation Precision Score  :  0.8436410567778068\n",
      "Validation Recall Score     :  0.86504\n",
      "Validation F1-Score         :  0.8541922018395172\n",
      "Validation ROC-AUC Score    :  0.85236\n",
      "time :  0.6607613881429036  mins\n",
      "parameter :  3.6\n",
      "Validation Accuracy Score   :  0.85208\n",
      "Validation Precision Score  :  0.8432336314134956\n",
      "Validation Recall Score     :  0.86496\n",
      "Validation F1-Score         :  0.8539435035389242\n",
      "Validation ROC-AUC Score    :  0.85208\n",
      "time :  0.773600435256958  mins\n",
      "parameter :  3.7\n",
      "Validation Accuracy Score   :  0.85208\n",
      "Validation Precision Score  :  0.8431812963135936\n",
      "Validation Recall Score     :  0.86504\n",
      "Validation F1-Score         :  0.8539567551963985\n",
      "Validation ROC-AUC Score    :  0.85208\n",
      "time :  0.8860975702603658  mins\n"
     ]
    }
   ],
   "source": [
    "# Version 2.1B - Monogram, Feature Hashing - 5000\n",
    "\n",
    "mono_5000     = HashingVectorizer(n_features=5000)\n",
    "mono_5000_bow = mono_5000.fit_transform(np.array(processed_list)) # bow: bag-of-words\n",
    "df212          = pd.DataFrame(mono_5000_bow.toarray(), columns=range(1,5001))\n",
    "\n",
    "print(df212.shape)\n",
    "\n",
    "# Prepare Data for Training | Validation Purpose\n",
    "\n",
    "y212 = df1[\"label\"].copy()\n",
    "X212 = df212.copy()\n",
    "\n",
    "print(y212.shape)\n",
    "print(X212.shape)\n",
    "\n",
    "# Logistic Regression\n",
    "\n",
    "from sklearn.linear_model import LogisticRegression\n",
    "    \n",
    "lr_acc_list = [] \n",
    "start_time   = time.time()\n",
    "C_param_range = [3.1, 3.2, 3.3, 3.4, 3.5, 3.6, 3.7]\n",
    "\n",
    "for param in C_param_range:\n",
    "    print(\"parameter : \", param)\n",
    "    lr_clf = LogisticRegression(penalty='l2', C=param, random_state=42)\n",
    "    lr_acc = cv_performance(lr_clf, X212, y212, k=2)\n",
    "    lr_acc_list.append(lr_acc)\n",
    "    print(\"time : \", ((time.time() - start_time)/60), \" mins\")"
   ]
  },
  {
   "cell_type": "code",
   "execution_count": 28,
   "metadata": {},
   "outputs": [
    {
     "data": {
      "text/plain": [
       "Text(0, 0.5, 'Cross-Validated Accuracy')"
      ]
     },
     "execution_count": 28,
     "metadata": {},
     "output_type": "execute_result"
    },
    {
     "data": {
      "image/png": "[encoded data removed]",
      "text/plain": [
       "<Figure size 432x288 with 1 Axes>"
      ]
     },
     "metadata": {
      "needs_background": "light"
     },
     "output_type": "display_data"
    }
   ],
   "source": [
    "plt.plot(C_param_range, lr_acc_list)\n",
    "plt.title('Logistic Regression Classifier (features no. = 5000)')\n",
    "plt.xlabel('Value of C Parameters for Logistic Regression Classifier')\n",
    "plt.ylabel('Cross-Validated Accuracy')"
   ]
  },
  {
   "cell_type": "code",
   "execution_count": 30,
   "metadata": {},
   "outputs": [
    {
     "name": "stdout",
     "output_type": "stream",
     "text": [
      "(25000, 15000)\n",
      "(25000,)\n",
      "(25000, 15000)\n",
      "parameter :  3.5\n",
      "Validation Accuracy Score   :  0.86192\n",
      "Validation Precision Score  :  0.8521350716786432\n",
      "Validation Recall Score     :  0.87584\n",
      "Validation F1-Score         :  0.863795507951018\n",
      "Validation ROC-AUC Score    :  0.86192\n",
      "time :  0.8426752328872681  mins\n",
      "parameter :  3.6\n",
      "Validation Accuracy Score   :  0.862\n",
      "Validation Precision Score  :  0.852321621644889\n",
      "Validation Recall Score     :  0.8757600000000001\n",
      "Validation F1-Score         :  0.8638508166236859\n",
      "Validation ROC-AUC Score    :  0.862\n",
      "time :  2.1609667976697287  mins\n",
      "parameter :  3.7\n",
      "Validation Accuracy Score   :  0.86208\n",
      "Validation Precision Score  :  0.852456250967899\n",
      "Validation Recall Score     :  0.87576\n",
      "Validation F1-Score         :  0.8639199520204237\n",
      "Validation ROC-AUC Score    :  0.86208\n",
      "time :  3.0018794178962707  mins\n",
      "parameter :  3.8\n",
      "Validation Accuracy Score   :  0.86192\n",
      "Validation Precision Score  :  0.8523581785803904\n",
      "Validation Recall Score     :  0.87552\n",
      "Validation F1-Score         :  0.8637527896241093\n",
      "Validation ROC-AUC Score    :  0.86192\n",
      "time :  3.765940618515015  mins\n",
      "parameter :  3.9\n",
      "Validation Accuracy Score   :  0.86176\n",
      "Validation Precision Score  :  0.8523661491947432\n",
      "Validation Recall Score     :  0.8751199999999999\n",
      "Validation F1-Score         :  0.8635621391642447\n",
      "Validation ROC-AUC Score    :  0.86176\n",
      "time :  4.672927232583364  mins\n",
      "parameter :  4.0\n",
      "Validation Accuracy Score   :  0.86164\n",
      "Validation Precision Score  :  0.852165991888091\n",
      "Validation Recall Score     :  0.8751199999999999\n",
      "Validation F1-Score         :  0.8634598153198578\n",
      "Validation ROC-AUC Score    :  0.86164\n",
      "time :  5.498155967394511  mins\n",
      "parameter :  4.1\n",
      "Validation Accuracy Score   :  0.86192\n",
      "Validation Precision Score  :  0.8524085041541887\n",
      "Validation Recall Score     :  0.87544\n",
      "Validation F1-Score         :  0.8637412757756586\n",
      "Validation ROC-AUC Score    :  0.86192\n",
      "time :  6.220256400108338  mins\n",
      "parameter :  4.2\n",
      "Validation Accuracy Score   :  0.86204\n",
      "Validation Precision Score  :  0.8525528069641262\n",
      "Validation Recall Score     :  0.8755200000000001\n",
      "Validation F1-Score         :  0.8638538999909724\n",
      "Validation ROC-AUC Score    :  0.8620400000000001\n",
      "time :  6.849806682268778  mins\n",
      "parameter :  4.3\n",
      "Validation Accuracy Score   :  0.86216\n",
      "Validation Precision Score  :  0.8526431507678087\n",
      "Validation Recall Score     :  0.87568\n",
      "Validation F1-Score         :  0.8639793428064889\n",
      "Validation ROC-AUC Score    :  0.86216\n",
      "time :  7.4609875520070394  mins\n",
      "parameter :  4.4\n",
      "Validation Accuracy Score   :  0.8622799999999999\n",
      "Validation Precision Score  :  0.8526775864514367\n",
      "Validation Recall Score     :  0.87592\n",
      "Validation F1-Score         :  0.8641142287637014\n",
      "Validation ROC-AUC Score    :  0.86228\n",
      "time :  8.283323431015015  mins\n",
      "parameter :  4.5\n",
      "Validation Accuracy Score   :  0.86232\n",
      "Validation Precision Score  :  0.8526855238775011\n",
      "Validation Recall Score     :  0.876\n",
      "Validation F1-Score         :  0.8641576219463886\n",
      "Validation ROC-AUC Score    :  0.86232\n",
      "time :  9.205309398969014  mins\n",
      "parameter :  4.6\n",
      "Validation Accuracy Score   :  0.8622\n",
      "Validation Precision Score  :  0.852539668749678\n",
      "Validation Recall Score     :  0.87592\n",
      "Validation F1-Score         :  0.8640456715452531\n",
      "Validation ROC-AUC Score    :  0.8621999999999999\n",
      "time :  9.946286781628926  mins\n",
      "parameter :  4.7\n",
      "Validation Accuracy Score   :  0.86236\n",
      "Validation Precision Score  :  0.8525854336774861\n",
      "Validation Recall Score     :  0.8762399999999999\n",
      "Validation F1-Score         :  0.8642233704748947\n",
      "Validation ROC-AUC Score    :  0.8623599999999999\n",
      "time :  10.816856197516124  mins\n",
      "parameter :  4.8\n",
      "Validation Accuracy Score   :  0.8622799999999999\n",
      "Validation Precision Score  :  0.8525624799209568\n",
      "Validation Recall Score     :  0.87608\n",
      "Validation F1-Score         :  0.8641337405892133\n",
      "Validation ROC-AUC Score    :  0.86228\n",
      "time :  11.755495699246724  mins\n",
      "parameter :  4.9\n",
      "Validation Accuracy Score   :  0.86236\n",
      "Validation Precision Score  :  0.8526412860202534\n",
      "Validation Recall Score     :  0.87616\n",
      "Validation F1-Score         :  0.864213893734856\n",
      "Validation ROC-AUC Score    :  0.86236\n",
      "time :  12.463394363721212  mins\n",
      "parameter :  5.0\n",
      "Validation Accuracy Score   :  0.86232\n",
      "Validation Precision Score  :  0.8527430629489496\n",
      "Validation Recall Score     :  0.87592\n",
      "Validation F1-Score         :  0.8641466790407808\n",
      "Validation ROC-AUC Score    :  0.86232\n",
      "time :  13.332769282658894  mins\n"
     ]
    }
   ],
   "source": [
    "mono_15000     = HashingVectorizer(n_features=15000)\n",
    "mono_15000_bow = mono_15000.fit_transform(np.array(processed_list)) # bow: bag-of-words\n",
    "df213          = pd.DataFrame(mono_15000_bow.toarray(), columns=range(1,15001))\n",
    "\n",
    "print(df213.shape)\n",
    "\n",
    "# Prepare Data for Training | Validation Purpose\n",
    "\n",
    "y213 = df1[\"label\"].copy()\n",
    "X213 = df213.copy()\n",
    "\n",
    "print(y213.shape)\n",
    "print(X213.shape)\n",
    "\n",
    "# Logistic Regression\n",
    "\n",
    "from sklearn.linear_model import LogisticRegression\n",
    "    \n",
    "lr_acc_list = [] \n",
    "start_time   = time.time()\n",
    "C_param_range = [3.5, 3.6, 3.7, 3.8, 3.9, 4.0, 4.1, 4.2, 4.3, 4.4, 4.5, 4.6, 4.7, 4.8, 4.9, 5.0]\n",
    "\n",
    "for param in C_param_range:\n",
    "    print(\"parameter : \", param)\n",
    "    lr_clf = LogisticRegression(penalty='l2', C=param, random_state=42)\n",
    "    lr_acc = cv_performance(lr_clf, X213, y213, k=2)\n",
    "    lr_acc_list.append(lr_acc)\n",
    "    print(\"time : \", ((time.time() - start_time)/60), \" mins\")"
   ]
  },
  {
   "cell_type": "code",
   "execution_count": 31,
   "metadata": {},
   "outputs": [
    {
     "data": {
      "text/plain": [
       "Text(0, 0.5, 'Cross-Validated Accuracy')"
      ]
     },
     "execution_count": 31,
     "metadata": {},
     "output_type": "execute_result"
    },
    {
     "data": {
      "image/png": "[encoded data removed]",
      "text/plain": [
       "<Figure size 432x288 with 1 Axes>"
      ]
     },
     "metadata": {
      "needs_background": "light"
     },
     "output_type": "display_data"
    }
   ],
   "source": [
    "plt.plot(C_param_range, lr_acc_list)\n",
    "plt.title('Logistic Regression Classifier (features no. = 15000)')\n",
    "plt.xlabel('Value of C Parameters for Logistic Regression Classifier')\n",
    "plt.ylabel('Cross-Validated Accuracy')"
   ]
  },
  {
   "cell_type": "code",
   "execution_count": 33,
   "metadata": {
    "scrolled": true
   },
   "outputs": [
    {
     "name": "stdout",
     "output_type": "stream",
     "text": [
      "(25000, 25000)\n",
      "(25000,)\n",
      "(25000, 25000)\n",
      "parameter :  4.5\n",
      "Validation Accuracy Score   :  0.8652\n",
      "Validation Precision Score  :  0.8559109903973708\n",
      "Validation Recall Score     :  0.87832\n",
      "Validation F1-Score         :  0.8669299192902136\n",
      "Validation ROC-AUC Score    :  0.8652\n",
      "time :  1.4280835509300231  mins\n",
      "parameter :  5\n",
      "Validation Accuracy Score   :  0.86536\n",
      "Validation Precision Score  :  0.8560603325497795\n",
      "Validation Recall Score     :  0.8784799999999999\n",
      "Validation F1-Score         :  0.8670853934555702\n",
      "Validation ROC-AUC Score    :  0.8653599999999999\n",
      "time :  2.8040224353472394  mins\n",
      "parameter :  5.5\n",
      "Validation Accuracy Score   :  0.86476\n",
      "Validation Precision Score  :  0.8557291075754441\n",
      "Validation Recall Score     :  0.8775200000000001\n",
      "Validation F1-Score         :  0.8664443893238734\n",
      "Validation ROC-AUC Score    :  0.86476\n",
      "time :  4.2147242824236555  mins\n",
      "parameter :  6\n",
      "Validation Accuracy Score   :  0.86484\n",
      "Validation Precision Score  :  0.8560310828749904\n",
      "Validation Recall Score     :  0.87728\n",
      "Validation F1-Score         :  0.8664791400829625\n",
      "Validation ROC-AUC Score    :  0.86484\n",
      "time :  5.455207252502442  mins\n",
      "parameter :  6.5\n",
      "Validation Accuracy Score   :  0.86464\n",
      "Validation Precision Score  :  0.8555895256545979\n",
      "Validation Recall Score     :  0.87744\n",
      "Validation F1-Score         :  0.866330438917454\n",
      "Validation ROC-AUC Score    :  0.8646400000000001\n",
      "time :  6.855833554267884  mins\n",
      "parameter :  7\n",
      "Validation Accuracy Score   :  0.8648800000000001\n",
      "Validation Precision Score  :  0.8559871363529675\n",
      "Validation Recall Score     :  0.87744\n",
      "Validation F1-Score         :  0.8665380718679485\n",
      "Validation ROC-AUC Score    :  0.8648800000000001\n",
      "time :  8.318868184089661  mins\n"
     ]
    }
   ],
   "source": [
    "mono_25000     = HashingVectorizer(n_features=25000)\n",
    "mono_25000_bow = mono_25000.fit_transform(np.array(processed_list)) # bow: bag-of-words\n",
    "df214          = pd.DataFrame(mono_25000_bow.toarray(), columns=range(1,25001))\n",
    "\n",
    "print(df214.shape)\n",
    "\n",
    "# Prepare Data for Training | Validation Purpose\n",
    "\n",
    "y214 = df1[\"label\"].copy()\n",
    "X214 = df214.copy()\n",
    "\n",
    "print(y214.shape)\n",
    "print(X214.shape)\n",
    "\n",
    "# Logistic Regression\n",
    "\n",
    "from sklearn.linear_model import LogisticRegression\n",
    "    \n",
    "lr_acc_list = [] \n",
    "start_time   = time.time()\n",
    "C_param_range = [4.5, 5, 5.5, 6, 6.5, 7]\n",
    "\n",
    "for param in C_param_range:\n",
    "    print(\"parameter : \", param)\n",
    "    lr_clf = LogisticRegression(penalty='l2', C=param, random_state=42)\n",
    "    lr_acc = cv_performance(lr_clf, X214, y214, k=2)\n",
    "    lr_acc_list.append(lr_acc)\n",
    "    print(\"time : \", ((time.time() - start_time)/60), \" mins\")"
   ]
  },
  {
   "cell_type": "code",
   "execution_count": 34,
   "metadata": {},
   "outputs": [
    {
     "data": {
      "text/plain": [
       "Text(0, 0.5, 'Cross-Validated Accuracy')"
      ]
     },
     "execution_count": 34,
     "metadata": {},
     "output_type": "execute_result"
    },
    {
     "data": {
      "image/png": "[encoded data removed]",
      "text/plain": [
       "<Figure size 432x288 with 1 Axes>"
      ]
     },
     "metadata": {
      "needs_background": "light"
     },
     "output_type": "display_data"
    }
   ],
   "source": [
    "plt.plot(C_param_range, lr_acc_list)\n",
    "plt.title('Logistic Regression Classifier (features no. = 25000)')\n",
    "plt.xlabel('Value of C Parameters for Logistic Regression Classifier')\n",
    "plt.ylabel('Cross-Validated Accuracy')"
   ]
  },
  {
   "cell_type": "markdown",
   "metadata": {},
   "source": [
    "# Version 2.2 - Feature Hashing, Bigram"
   ]
  },
  {
   "cell_type": "code",
   "execution_count": 15,
   "metadata": {
    "scrolled": false
   },
   "outputs": [
    {
     "name": "stdout",
     "output_type": "stream",
     "text": [
      "(25000, 25000)\n",
      "(25000,)\n",
      "(25000, 25000)\n",
      "parameter :  6\n",
      "Validation Accuracy Score   :  0.85932\n",
      "Validation Precision Score  :  0.8490024778784314\n",
      "Validation Recall Score     :  0.87416\n",
      "Validation F1-Score         :  0.8613577887264108\n",
      "Validation ROC-AUC Score    :  0.8593200000000001\n",
      "time :  1.728625484307607  mins\n",
      "parameter :  7\n",
      "Validation Accuracy Score   :  0.8582000000000001\n",
      "Validation Precision Score  :  0.8482349152552215\n",
      "Validation Recall Score     :  0.87256\n",
      "Validation F1-Score         :  0.8601875027874987\n",
      "Validation ROC-AUC Score    :  0.8582000000000001\n",
      "time :  3.2083672523498534  mins\n",
      "parameter :  8\n",
      "Validation Accuracy Score   :  0.8577600000000001\n",
      "Validation Precision Score  :  0.8479418124883695\n",
      "Validation Recall Score     :  0.87192\n",
      "Validation F1-Score         :  0.8597197168736499\n",
      "Validation ROC-AUC Score    :  0.85776\n",
      "time :  4.557532982031504  mins\n",
      "parameter :  9\n",
      "Validation Accuracy Score   :  0.8578399999999999\n",
      "Validation Precision Score  :  0.8484037505468328\n",
      "Validation Recall Score     :  0.87144\n",
      "Validation F1-Score         :  0.8597224969452608\n",
      "Validation ROC-AUC Score    :  0.85784\n",
      "time :  6.36037845214208  mins\n",
      "parameter :  10\n",
      "Validation Accuracy Score   :  0.85744\n",
      "Validation Precision Score  :  0.8482878590815732\n",
      "Validation Recall Score     :  0.87064\n",
      "Validation F1-Score         :  0.8592734536949285\n",
      "Validation ROC-AUC Score    :  0.85744\n",
      "time :  8.037880102793375  mins\n"
     ]
    }
   ],
   "source": [
    "# Version 2.2 - Bigram, Feature Hashing - 25000\n",
    "\n",
    "from sklearn.feature_extraction.text import HashingVectorizer\n",
    "bi_25000     = HashingVectorizer(n_features=25000, ngram_range=(1, 2))\n",
    "bi_25000_bow = bi_25000.fit_transform(np.array(processed_list)) # bow: bag-of-words\n",
    "df22          = pd.DataFrame(bi_25000_bow.toarray(), columns=range(1,25001))\n",
    "\n",
    "print(df22.shape)\n",
    "\n",
    "# Prepare Data for Training | Validation Purpose\n",
    "\n",
    "y22 = df1[\"label\"].copy()\n",
    "X22 = df22.copy()\n",
    "\n",
    "print(y22.shape)\n",
    "print(X22.shape)\n",
    "\n",
    "# Logistic Regression\n",
    "\n",
    "from sklearn.linear_model import LogisticRegression\n",
    "    \n",
    "lr_acc_list = [] \n",
    "start_time   = time.time()\n",
    "C_param_range = [6, 7, 8, 9, 10]\n",
    "\n",
    "for param in C_param_range:\n",
    "    print(\"parameter : \", param)\n",
    "    lr_clf = LogisticRegression(penalty='l2', C=param, random_state=42)\n",
    "    lr_acc = cv_performance(lr_clf, X22, y22, k=2)\n",
    "    lr_acc_list.append(lr_acc)\n",
    "    print(\"time : \", ((time.time() - start_time)/60), \" mins\")"
   ]
  },
  {
   "cell_type": "code",
   "execution_count": 16,
   "metadata": {
    "scrolled": true
   },
   "outputs": [
    {
     "data": {
      "text/plain": [
       "Text(0, 0.5, 'Cross-Validated Accuracy')"
      ]
     },
     "execution_count": 16,
     "metadata": {},
     "output_type": "execute_result"
    },
    {
     "data": {
      "image/png": "[encoded data removed]",
      "text/plain": [
       "<Figure size 432x288 with 1 Axes>"
      ]
     },
     "metadata": {
      "needs_background": "light"
     },
     "output_type": "display_data"
    }
   ],
   "source": [
    "plt.plot(C_param_range, lr_acc_list)\n",
    "plt.title('Logistic Regression Classifier (Bigram, features no. = 25000)')\n",
    "plt.xlabel('Value of C Parameters for Logistic Regression Classifier')\n",
    "plt.ylabel('Cross-Validated Accuracy')"
   ]
  },
  {
   "cell_type": "markdown",
   "metadata": {},
   "source": [
    "# Version 2.3 - Feature Hashing, Trigram"
   ]
  },
  {
   "cell_type": "code",
   "execution_count": 19,
   "metadata": {},
   "outputs": [
    {
     "name": "stdout",
     "output_type": "stream",
     "text": [
      "(25000, 25000)\n",
      "(25000,)\n",
      "(25000, 25000)\n",
      "parameter :  3.0\n",
      "Validation Accuracy Score   :  0.85048\n",
      "Validation Precision Score  :  0.8381853799358301\n",
      "Validation Recall Score     :  0.8687199999999999\n",
      "Validation F1-Score         :  0.853135624376151\n",
      "Validation ROC-AUC Score    :  0.8504800000000001\n",
      "time :  1.7430797974268595  mins\n",
      "parameter :  3.1\n",
      "Validation Accuracy Score   :  0.8505199999999999\n",
      "Validation Precision Score  :  0.8384069923756068\n",
      "Validation Recall Score     :  0.86848\n",
      "Validation F1-Score         :  0.8531331442953498\n",
      "Validation ROC-AUC Score    :  0.8505199999999999\n",
      "time :  3.2468074480692546  mins\n",
      "parameter :  3.2\n",
      "Validation Accuracy Score   :  0.85048\n",
      "Validation Precision Score  :  0.8385501461028286\n",
      "Validation Recall Score     :  0.86816\n",
      "Validation F1-Score         :  0.853055120960476\n",
      "Validation ROC-AUC Score    :  0.85048\n",
      "time :  5.083431649208069  mins\n",
      "parameter :  3.3\n",
      "Validation Accuracy Score   :  0.85036\n",
      "Validation Precision Score  :  0.8384636201755236\n",
      "Validation Recall Score     :  0.868\n",
      "Validation F1-Score         :  0.8529335608070141\n",
      "Validation ROC-AUC Score    :  0.85036\n",
      "time :  6.58870755036672  mins\n",
      "parameter :  3.4\n",
      "Validation Accuracy Score   :  0.85024\n",
      "Validation Precision Score  :  0.8385819726659537\n",
      "Validation Recall Score     :  0.8675200000000001\n",
      "Validation F1-Score         :  0.8527642735581114\n",
      "Validation ROC-AUC Score    :  0.85024\n",
      "time :  8.116260782877605  mins\n",
      "parameter :  3.5\n",
      "Validation Accuracy Score   :  0.8502799999999999\n",
      "Validation Precision Score  :  0.8387548133390019\n",
      "Validation Recall Score     :  0.86736\n",
      "Validation F1-Score         :  0.8527767337978356\n",
      "Validation ROC-AUC Score    :  0.8502799999999999\n",
      "time :  10.318138631184896  mins\n",
      "parameter :  3.6\n",
      "Validation Accuracy Score   :  0.85032\n",
      "Validation Precision Score  :  0.8387605054588889\n",
      "Validation Recall Score     :  0.86744\n",
      "Validation F1-Score         :  0.8528214830139373\n",
      "Validation ROC-AUC Score    :  0.85032\n",
      "time :  12.165503128369648  mins\n",
      "parameter :  3.7\n",
      "Validation Accuracy Score   :  0.8504400000000001\n",
      "Validation Precision Score  :  0.8389564436461607\n",
      "Validation Recall Score     :  0.86744\n",
      "Validation F1-Score         :  0.8529214108910891\n",
      "Validation ROC-AUC Score    :  0.8504400000000001\n",
      "time :  13.941957465807597  mins\n",
      "parameter :  3.8\n",
      "Validation Accuracy Score   :  0.85076\n",
      "Validation Precision Score  :  0.8393192745477686\n",
      "Validation Recall Score     :  0.86768\n",
      "Validation F1-Score         :  0.8532266969004014\n",
      "Validation ROC-AUC Score    :  0.85076\n",
      "time :  15.735463730494182  mins\n",
      "parameter :  3.9\n",
      "Validation Accuracy Score   :  0.85084\n",
      "Validation Precision Score  :  0.8394492191010225\n",
      "Validation Recall Score     :  0.86768\n",
      "Validation F1-Score         :  0.8532938263504375\n",
      "Validation ROC-AUC Score    :  0.85084\n",
      "time :  17.548818496863046  mins\n",
      "parameter :  4.0\n",
      "Validation Accuracy Score   :  0.85088\n",
      "Validation Precision Score  :  0.8397839487436185\n",
      "Validation Recall Score     :  0.86728\n",
      "Validation F1-Score         :  0.8532708909099225\n",
      "Validation ROC-AUC Score    :  0.85088\n",
      "time :  19.331396861871085  mins\n",
      "parameter :  4.1\n",
      "Validation Accuracy Score   :  0.8506\n",
      "Validation Precision Score  :  0.8396478912860497\n",
      "Validation Recall Score     :  0.8668\n",
      "Validation F1-Score         :  0.8529669089740194\n",
      "Validation ROC-AUC Score    :  0.8506\n",
      "time :  21.526804931958516  mins\n",
      "parameter :  4.2\n",
      "Validation Accuracy Score   :  0.8506\n",
      "Validation Precision Score  :  0.8394884858151371\n",
      "Validation Recall Score     :  0.86704\n",
      "Validation F1-Score         :  0.8530026630682492\n",
      "Validation ROC-AUC Score    :  0.8506\n",
      "time :  23.45330641269684  mins\n",
      "parameter :  4.3\n",
      "Validation Accuracy Score   :  0.85084\n",
      "Validation Precision Score  :  0.8397710167223406\n",
      "Validation Recall Score     :  0.8672\n",
      "Validation F1-Score         :  0.8532277084934845\n",
      "Validation ROC-AUC Score    :  0.85084\n",
      "time :  25.07975491285324  mins\n",
      "parameter :  4.4\n",
      "Validation Accuracy Score   :  0.85084\n",
      "Validation Precision Score  :  0.8398736906333365\n",
      "Validation Recall Score     :  0.86704\n",
      "Validation F1-Score         :  0.8532057984452114\n",
      "Validation ROC-AUC Score    :  0.8508399999999999\n",
      "time :  26.583111981550854  mins\n",
      "parameter :  4.5\n",
      "Validation Accuracy Score   :  0.85084\n",
      "Validation Precision Score  :  0.8399298546148776\n",
      "Validation Recall Score     :  0.86696\n",
      "Validation F1-Score         :  0.8531943170534775\n",
      "Validation ROC-AUC Score    :  0.85084\n",
      "time :  28.068077580134073  mins\n",
      "parameter :  4.6\n",
      "Validation Accuracy Score   :  0.8506400000000001\n",
      "Validation Precision Score  :  0.8399247459325427\n",
      "Validation Recall Score     :  0.86648\n",
      "Validation F1-Score         :  0.852955124099583\n",
      "Validation ROC-AUC Score    :  0.8506400000000001\n",
      "time :  29.678217415014903  mins\n",
      "parameter :  4.7\n",
      "Validation Accuracy Score   :  0.85084\n",
      "Validation Precision Score  :  0.8403011693453105\n",
      "Validation Recall Score     :  0.8664000000000001\n",
      "Validation F1-Score         :  0.8531108162416596\n",
      "Validation ROC-AUC Score    :  0.85084\n",
      "time :  31.98559846083323  mins\n",
      "parameter :  4.8\n",
      "Validation Accuracy Score   :  0.85068\n",
      "Validation Precision Score  :  0.8402515987888951\n",
      "Validation Recall Score     :  0.86608\n",
      "Validation F1-Score         :  0.852930085967669\n",
      "Validation ROC-AUC Score    :  0.85068\n",
      "time :  33.8923424800237  mins\n",
      "parameter :  4.9\n",
      "Validation Accuracy Score   :  0.85076\n",
      "Validation Precision Score  :  0.8403326769450599\n",
      "Validation Recall Score     :  0.86616\n",
      "Validation F1-Score         :  0.8530097414298823\n",
      "Validation ROC-AUC Score    :  0.85076\n",
      "time :  35.34013688166936  mins\n",
      "parameter :  5.0\n",
      "Validation Accuracy Score   :  0.85092\n",
      "Validation Precision Score  :  0.8403790963694244\n",
      "Validation Recall Score     :  0.8664799999999999\n",
      "Validation F1-Score         :  0.853192443582105\n",
      "Validation ROC-AUC Score    :  0.85092\n",
      "time :  36.823313828309374  mins\n",
      "parameter :  5.1\n",
      "Validation Accuracy Score   :  0.85068\n",
      "Validation Precision Score  :  0.8401409507268491\n",
      "Validation Recall Score     :  0.86624\n",
      "Validation F1-Score         :  0.852954226610507\n",
      "Validation ROC-AUC Score    :  0.85068\n",
      "time :  38.26149436632792  mins\n",
      "parameter :  5.2\n",
      "Validation Accuracy Score   :  0.8506\n",
      "Validation Precision Score  :  0.839853574101999\n",
      "Validation Recall Score     :  0.8664799999999999\n",
      "Validation F1-Score         :  0.8529215603088257\n",
      "Validation ROC-AUC Score    :  0.8506\n",
      "time :  39.576542695363365  mins\n",
      "parameter :  5.3\n",
      "Validation Accuracy Score   :  0.85068\n",
      "Validation Precision Score  :  0.8400867463321962\n",
      "Validation Recall Score     :  0.86632\n",
      "Validation F1-Score         :  0.8529667948249624\n",
      "Validation ROC-AUC Score    :  0.85068\n",
      "time :  40.90984796285629  mins\n",
      "parameter :  5.4\n",
      "Validation Accuracy Score   :  0.8504400000000001\n",
      "Validation Precision Score  :  0.8399585121234916\n",
      "Validation Recall Score     :  0.86592\n",
      "Validation F1-Score         :  0.8527067617018609\n",
      "Validation ROC-AUC Score    :  0.85044\n",
      "time :  42.985859497388205  mins\n",
      "parameter :  5.5\n",
      "Validation Accuracy Score   :  0.85036\n",
      "Validation Precision Score  :  0.8399336731005567\n",
      "Validation Recall Score     :  0.86576\n",
      "Validation F1-Score         :  0.8526163654168173\n",
      "Validation ROC-AUC Score    :  0.85036\n",
      "time :  45.3068639477094  mins\n",
      "parameter :  5.6\n",
      "Validation Accuracy Score   :  0.8504400000000001\n",
      "Validation Precision Score  :  0.8399093831149831\n",
      "Validation Recall Score     :  0.866\n",
      "Validation F1-Score         :  0.8527176541683283\n",
      "Validation ROC-AUC Score    :  0.8504400000000001\n",
      "time :  48.07575121323268  mins\n",
      "parameter :  5.7\n",
      "Validation Accuracy Score   :  0.85048\n",
      "Validation Precision Score  :  0.8399239751461506\n",
      "Validation Recall Score     :  0.86608\n",
      "Validation F1-Score         :  0.8527635233889348\n",
      "Validation ROC-AUC Score    :  0.85048\n",
      "time :  50.280090880393985  mins\n",
      "parameter :  5.8\n",
      "Validation Accuracy Score   :  0.85036\n",
      "Validation Precision Score  :  0.8396758960313861\n",
      "Validation Recall Score     :  0.86616\n",
      "Validation F1-Score         :  0.8526739933619745\n",
      "Validation ROC-AUC Score    :  0.85036\n",
      "time :  52.05067896048228  mins\n",
      "parameter :  5.9\n",
      "Validation Accuracy Score   :  0.85032\n",
      "Validation Precision Score  :  0.8397690119270542\n",
      "Validation Recall Score     :  0.86592\n",
      "Validation F1-Score         :  0.8526052012784475\n",
      "Validation ROC-AUC Score    :  0.8503200000000001\n",
      "time :  53.51853731075923  mins\n",
      "parameter :  6.0\n"
     ]
    },
    {
     "name": "stdout",
     "output_type": "stream",
     "text": [
      "Validation Accuracy Score   :  0.85048\n",
      "Validation Precision Score  :  0.8400295261857692\n",
      "Validation Recall Score     :  0.86592\n",
      "Validation F1-Score         :  0.8527403206159159\n",
      "Validation ROC-AUC Score    :  0.85048\n",
      "time :  55.03231064478556  mins\n"
     ]
    }
   ],
   "source": [
    "# Version 2.3 - Trigram, Feature Hashing - 25000\n",
    "\n",
    "from sklearn.feature_extraction.text import HashingVectorizer\n",
    "tri_25000     = HashingVectorizer(n_features=25000, ngram_range=(1, 3))\n",
    "tri_25000_bow = tri_25000.fit_transform(np.array(processed_list)) # bow: bag-of-words\n",
    "df23          = pd.DataFrame(tri_25000_bow.toarray(), columns=range(1,25001))\n",
    "\n",
    "print(df23.shape)\n",
    "\n",
    "# Prepare Data for Training | Validation Purpose\n",
    "\n",
    "y23 = df1[\"label\"].copy()\n",
    "X23 = df23.copy()\n",
    "\n",
    "print(y23.shape)\n",
    "print(X23.shape)\n",
    "\n",
    "# Logistic Regression\n",
    "\n",
    "from sklearn.linear_model import LogisticRegression\n",
    "    \n",
    "lr_acc_list = [] \n",
    "start_time   = time.time()\n",
    "C_param_range = [3.0, 3.1, 3.2, 3.3, 3.4, 3.5, 3.6, 3.7, 3.8, 3.9, \n",
    "                 4.0, 4.1, 4.2, 4.3, 4.4, 4.5, 4.6, 4.7, 4.8, 4.9, \n",
    "                 5.0, 5.1, 5.2, 5.3, 5.4, 5.5, 5.6, 5.7, 5.8, 5.9, 6.0]\n",
    "\n",
    "for param in C_param_range:\n",
    "    print(\"parameter : \", param)\n",
    "    lr_clf = LogisticRegression(penalty='l2', C=param, random_state=42)\n",
    "    lr_acc = cv_performance(lr_clf, X23, y23, k=2)\n",
    "    lr_acc_list.append(lr_acc)\n",
    "    print(\"time : \", ((time.time() - start_time)/60), \" mins\")"
   ]
  },
  {
   "cell_type": "code",
   "execution_count": 20,
   "metadata": {},
   "outputs": [
    {
     "data": {
      "text/plain": [
       "Text(0, 0.5, 'Cross-Validated Accuracy')"
      ]
     },
     "execution_count": 20,
     "metadata": {},
     "output_type": "execute_result"
    },
    {
     "data": {
      "image/png": "[encoded data removed]",
      "text/plain": [
       "<Figure size 432x288 with 1 Axes>"
      ]
     },
     "metadata": {
      "needs_background": "light"
     },
     "output_type": "display_data"
    }
   ],
   "source": [
    "plt.plot(C_param_range, lr_acc_list)\n",
    "plt.title('Logistic Regression Classifier (Trigram, features no. = 25000)')\n",
    "plt.xlabel('Value of C Parameters for Logistic Regression Classifier')\n",
    "plt.ylabel('Cross-Validated Accuracy')"
   ]
  },
  {
   "cell_type": "code",
   "execution_count": 13,
   "metadata": {},
   "outputs": [
    {
     "name": "stdout",
     "output_type": "stream",
     "text": [
      "time :  0.10009789069493612  mins\n",
      "Text Pre-Processing (Test) Done.\n"
     ]
    }
   ],
   "source": [
    "# Testing\n",
    "\n",
    "start_time = time.time()\n",
    "test_list = df_test['reviews'].values.tolist()\n",
    "processed_tlist = p.map(func, test_list)\n",
    "print(\"time : \", ((time.time() - start_time)/60), \" mins\")\n",
    "print('Text Pre-Processing (Test) Done.')"
   ]
  },
  {
   "cell_type": "code",
   "execution_count": 17,
   "metadata": {},
   "outputs": [
    {
     "name": "stdout",
     "output_type": "stream",
     "text": [
      "Accuracy :  0.86812\n"
     ]
    }
   ],
   "source": [
    "# Test (Mono)\n",
    "from sklearn.feature_extraction.text import HashingVectorizer\n",
    "from sklearn.linear_model import LogisticRegression\n",
    "\n",
    "mono_25000     = HashingVectorizer(n_features=25000)\n",
    "mono_25000_bow = mono_25000.fit_transform(np.array(processed_list)) # bow: bag-of-words\n",
    "df_mono        = pd.DataFrame(mono_25000_bow.toarray(), columns=range(1,25001))\n",
    "y_mono = df1[\"label\"].copy()\n",
    "X_mono = df_mono.copy()\n",
    "\n",
    "mono_25000_tbow = mono_25000.fit_transform(np.array(processed_tlist)) # bow: bag-of-words\n",
    "df_tmono        = pd.DataFrame(mono_25000_tbow.toarray(), columns=range(1,25001))\n",
    "y_tmono = df_test[\"label\"].copy()\n",
    "X_tmono = df_tmono.copy()\n",
    "\n",
    "mono_clf = LogisticRegression(penalty='l2', C=5, random_state=42)\n",
    "mono_clf.fit(X_mono, y_mono)\n",
    "y_pred1 = mono_clf.predict(X_tmono)\n",
    "print(\"Accuracy : \", accuracy_score(y_tmono, y_pred1))"
   ]
  },
  {
   "cell_type": "code",
   "execution_count": 18,
   "metadata": {},
   "outputs": [
    {
     "name": "stdout",
     "output_type": "stream",
     "text": [
      "Accuracy :  0.86296\n"
     ]
    }
   ],
   "source": [
    "# Test (Bi)\n",
    "\n",
    "bi_25000     = HashingVectorizer(n_features=25000, ngram_range=(1, 2))\n",
    "bi_25000_bow = bi_25000.fit_transform(np.array(processed_list)) # bow: bag-of-words\n",
    "df_bi        = pd.DataFrame(bi_25000_bow.toarray(), columns=range(1,25001))\n",
    "y_bi = df1[\"label\"].copy()\n",
    "X_bi = df_bi.copy()\n",
    "\n",
    "bi_25000_tbow = bi_25000.fit_transform(np.array(processed_tlist)) # bow: bag-of-words\n",
    "df_tbi        = pd.DataFrame(bi_25000_tbow.toarray(), columns=range(1,25001))\n",
    "y_tbi = df_test[\"label\"].copy()\n",
    "X_tbi = df_tbi.copy()\n",
    "\n",
    "bi_clf = LogisticRegression(penalty='l2', C=6, random_state=42)\n",
    "bi_clf.fit(X_bi, y_bi)\n",
    "y_pred2 = bi_clf.predict(X_tbi)\n",
    "print(\"Accuracy : \", accuracy_score(y_tbi, y_pred2))"
   ]
  },
  {
   "cell_type": "code",
   "execution_count": 19,
   "metadata": {},
   "outputs": [
    {
     "name": "stdout",
     "output_type": "stream",
     "text": [
      "Accuracy :  0.85256\n"
     ]
    }
   ],
   "source": [
    "# Test (Tri)\n",
    "\n",
    "tri_25000     = HashingVectorizer(n_features=25000, ngram_range=(1, 3))\n",
    "tri_25000_bow = tri_25000.fit_transform(np.array(processed_list)) # bow: bag-of-words\n",
    "df_tri        = pd.DataFrame(tri_25000_bow.toarray(), columns=range(1,25001))\n",
    "y_tri = df1[\"label\"].copy()\n",
    "X_tri = df_tri.copy()\n",
    "\n",
    "tri_25000_tbow = tri_25000.fit_transform(np.array(processed_tlist)) # bow: bag-of-words\n",
    "df_ttri        = pd.DataFrame(tri_25000_tbow.toarray(), columns=range(1,25001))\n",
    "y_ttri = df_test[\"label\"].copy()\n",
    "X_ttri = df_ttri.copy()\n",
    "\n",
    "tri_clf = LogisticRegression(penalty='l2', C=5, random_state=42)\n",
    "tri_clf.fit(X_tri, y_tri)\n",
    "y_pred3 = bi_clf.predict(X_ttri)\n",
    "print(\"Accuracy : \", accuracy_score(y_ttri, y_pred3))"
   ]
  },
  {
   "cell_type": "code",
   "execution_count": null,
   "metadata": {},
   "outputs": [],
   "source": [
    "# The End "
   ]
  }
 ],
 "metadata": {
  "kernelspec": {
   "display_name": "conda_python3",
   "language": "python",
   "name": "conda_python3"
  },
  "language_info": {
   "codemirror_mode": {
    "name": "ipython",
    "version": 3
   },
   "file_extension": ".py",
   "mimetype": "text/x-python",
   "name": "python",
   "nbconvert_exporter": "python",
   "pygments_lexer": "ipython3",
   "version": "3.6.5"
  }
 },
 "nbformat": 4,
 "nbformat_minor": 2
}
